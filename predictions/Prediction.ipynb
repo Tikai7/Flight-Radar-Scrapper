{
 "cells": [
  {
   "cell_type": "code",
   "execution_count": 35,
   "id": "9119dae0-bc0b-48c1-b61f-b2fb0bc85437",
   "metadata": {},
   "outputs": [],
   "source": [
    "import pandas as pd\n",
    "import numpy as np\n",
    "import matplotlib.pyplot as plt\n",
    "import seaborn as sns\n",
    "import datetime\n",
    "from sklearn.preprocessing import LabelEncoder,OneHotEncoder, StandardScaler,PolynomialFeatures\n",
    "from sklearn.model_selection import train_test_split\n",
    "from sklearn.model_selection import GridSearchCV\n",
    "from sklearn.pipeline import Pipeline\n",
    "from sklearn.linear_model import LinearRegression,Ridge,Lasso,ElasticNet\n",
    "from sklearn.ensemble import RandomForestRegressor\n",
    "from sklearn.metrics import mean_squared_error\n",
    "import pickle\n",
    "from scipy.stats import mannwhitneyu"
   ]
  },
  {
   "cell_type": "code",
   "execution_count": 8,
   "id": "a6329dfe-4ff7-416e-8dc6-354f7366cce3",
   "metadata": {},
   "outputs": [],
   "source": [
    "df_flights = pd.read_csv(f'./data/data_usa/flights_final.csv',low_memory=False)"
   ]
  },
  {
   "cell_type": "code",
   "execution_count": 9,
   "id": "a370728b-0b5c-46e6-8db9-d137e6e4cb93",
   "metadata": {},
   "outputs": [],
   "source": [
    "df_flights['DATE'] = pd.to_datetime(df_flights['DATE'])"
   ]
  },
  {
   "cell_type": "code",
   "execution_count": 10,
   "id": "1924ad4a-6b90-452f-9ac2-e2cd7e45f1e2",
   "metadata": {},
   "outputs": [
    {
     "name": "stderr",
     "output_type": "stream",
     "text": [
      "C:\\Users\\Melissa\\AppData\\Local\\Temp\\ipykernel_5704\\4276420066.py:1: UserWarning: Could not infer format, so each element will be parsed individually, falling back to `dateutil`. To ensure parsing is consistent and as-expected, please specify a format.\n",
      "  df_flights['SCHEDULED_DEPARTURE'] = pd.to_datetime(df_flights['SCHEDULED_DEPARTURE']).dt.time\n",
      "C:\\Users\\Melissa\\AppData\\Local\\Temp\\ipykernel_5704\\4276420066.py:2: UserWarning: Could not infer format, so each element will be parsed individually, falling back to `dateutil`. To ensure parsing is consistent and as-expected, please specify a format.\n",
      "  df_flights['SCHEDULED_ARRIVAL'] = pd.to_datetime(df_flights['SCHEDULED_ARRIVAL']).dt.time\n"
     ]
    }
   ],
   "source": [
    "df_flights['SCHEDULED_DEPARTURE'] = pd.to_datetime(df_flights['SCHEDULED_DEPARTURE']).dt.time\n",
    "df_flights['SCHEDULED_ARRIVAL'] = pd.to_datetime(df_flights['SCHEDULED_ARRIVAL']).dt.time"
   ]
  },
  {
   "cell_type": "markdown",
   "id": "70eea80b-b10b-4d59-823b-fa510cd0937d",
   "metadata": {},
   "source": [
    "#### Séparer le dataset en train (3 premières semaines de janvier) et test (dernière semaine de janvier)"
   ]
  },
  {
   "cell_type": "code",
   "execution_count": 11,
   "id": "9677ac25-d1ac-4b24-abfd-3d448305fabd",
   "metadata": {},
   "outputs": [],
   "source": [
    "df_train = df_flights[df_flights['DATE'].apply(lambda x:x.date()) < datetime.date(2015, 1, 23)]\n",
    "df_test  = df_flights[df_flights['DATE'].apply(lambda x:x.date()) > datetime.date(2015, 1, 23)]"
   ]
  },
  {
   "cell_type": "code",
   "execution_count": 12,
   "id": "66d4b4b2-38a3-47b9-9100-29a4624fc6d5",
   "metadata": {},
   "outputs": [
    {
     "data": {
      "text/html": [
       "<div>\n",
       "<style scoped>\n",
       "    .dataframe tbody tr th:only-of-type {\n",
       "        vertical-align: middle;\n",
       "    }\n",
       "\n",
       "    .dataframe tbody tr th {\n",
       "        vertical-align: top;\n",
       "    }\n",
       "\n",
       "    .dataframe thead th {\n",
       "        text-align: right;\n",
       "    }\n",
       "</style>\n",
       "<table border=\"1\" class=\"dataframe\">\n",
       "  <thead>\n",
       "    <tr style=\"text-align: right;\">\n",
       "      <th></th>\n",
       "      <th>DATE</th>\n",
       "      <th>AIRLINE</th>\n",
       "      <th>ORIGIN_AIRPORT</th>\n",
       "      <th>DESTINATION_AIRPORT</th>\n",
       "      <th>SCHEDULED_DEPARTURE</th>\n",
       "      <th>DEPARTURE_TIME</th>\n",
       "      <th>DEPARTURE_DELAY</th>\n",
       "      <th>SCHEDULED_TIME</th>\n",
       "      <th>ELAPSED_TIME</th>\n",
       "      <th>DISTANCE</th>\n",
       "      <th>SCHEDULED_ARRIVAL</th>\n",
       "      <th>ARRIVAL_TIME</th>\n",
       "      <th>ARRIVAL_DELAY</th>\n",
       "    </tr>\n",
       "  </thead>\n",
       "  <tbody>\n",
       "    <tr>\n",
       "      <th>0</th>\n",
       "      <td>2015-01-01</td>\n",
       "      <td>AS</td>\n",
       "      <td>ANC</td>\n",
       "      <td>SEA</td>\n",
       "      <td>00:05:00</td>\n",
       "      <td>23:54:00</td>\n",
       "      <td>-11.0</td>\n",
       "      <td>205.0</td>\n",
       "      <td>194.0</td>\n",
       "      <td>2331</td>\n",
       "      <td>04:30:00</td>\n",
       "      <td>04:08:00</td>\n",
       "      <td>-22.0</td>\n",
       "    </tr>\n",
       "    <tr>\n",
       "      <th>1</th>\n",
       "      <td>2015-01-01</td>\n",
       "      <td>AA</td>\n",
       "      <td>LAX</td>\n",
       "      <td>PBI</td>\n",
       "      <td>00:10:00</td>\n",
       "      <td>00:02:00</td>\n",
       "      <td>-8.0</td>\n",
       "      <td>280.0</td>\n",
       "      <td>279.0</td>\n",
       "      <td>3750</td>\n",
       "      <td>07:50:00</td>\n",
       "      <td>07:41:00</td>\n",
       "      <td>-9.0</td>\n",
       "    </tr>\n",
       "    <tr>\n",
       "      <th>2</th>\n",
       "      <td>2015-01-01</td>\n",
       "      <td>US</td>\n",
       "      <td>SFO</td>\n",
       "      <td>CLT</td>\n",
       "      <td>00:20:00</td>\n",
       "      <td>00:18:00</td>\n",
       "      <td>-2.0</td>\n",
       "      <td>286.0</td>\n",
       "      <td>293.0</td>\n",
       "      <td>3696</td>\n",
       "      <td>08:06:00</td>\n",
       "      <td>08:11:00</td>\n",
       "      <td>5.0</td>\n",
       "    </tr>\n",
       "    <tr>\n",
       "      <th>3</th>\n",
       "      <td>2015-01-01</td>\n",
       "      <td>AA</td>\n",
       "      <td>LAX</td>\n",
       "      <td>MIA</td>\n",
       "      <td>00:20:00</td>\n",
       "      <td>00:15:00</td>\n",
       "      <td>-5.0</td>\n",
       "      <td>285.0</td>\n",
       "      <td>281.0</td>\n",
       "      <td>3770</td>\n",
       "      <td>08:05:00</td>\n",
       "      <td>07:56:00</td>\n",
       "      <td>-9.0</td>\n",
       "    </tr>\n",
       "    <tr>\n",
       "      <th>4</th>\n",
       "      <td>2015-01-01</td>\n",
       "      <td>AS</td>\n",
       "      <td>SEA</td>\n",
       "      <td>ANC</td>\n",
       "      <td>00:25:00</td>\n",
       "      <td>00:24:00</td>\n",
       "      <td>-1.0</td>\n",
       "      <td>235.0</td>\n",
       "      <td>215.0</td>\n",
       "      <td>2331</td>\n",
       "      <td>03:20:00</td>\n",
       "      <td>02:59:00</td>\n",
       "      <td>-21.0</td>\n",
       "    </tr>\n",
       "  </tbody>\n",
       "</table>\n",
       "</div>"
      ],
      "text/plain": [
       "        DATE AIRLINE ORIGIN_AIRPORT DESTINATION_AIRPORT SCHEDULED_DEPARTURE  \\\n",
       "0 2015-01-01      AS            ANC                 SEA            00:05:00   \n",
       "1 2015-01-01      AA            LAX                 PBI            00:10:00   \n",
       "2 2015-01-01      US            SFO                 CLT            00:20:00   \n",
       "3 2015-01-01      AA            LAX                 MIA            00:20:00   \n",
       "4 2015-01-01      AS            SEA                 ANC            00:25:00   \n",
       "\n",
       "  DEPARTURE_TIME  DEPARTURE_DELAY  SCHEDULED_TIME  ELAPSED_TIME  DISTANCE  \\\n",
       "0       23:54:00            -11.0           205.0         194.0      2331   \n",
       "1       00:02:00             -8.0           280.0         279.0      3750   \n",
       "2       00:18:00             -2.0           286.0         293.0      3696   \n",
       "3       00:15:00             -5.0           285.0         281.0      3770   \n",
       "4       00:24:00             -1.0           235.0         215.0      2331   \n",
       "\n",
       "  SCHEDULED_ARRIVAL ARRIVAL_TIME  ARRIVAL_DELAY  \n",
       "0          04:30:00     04:08:00          -22.0  \n",
       "1          07:50:00     07:41:00           -9.0  \n",
       "2          08:06:00     08:11:00            5.0  \n",
       "3          08:05:00     07:56:00           -9.0  \n",
       "4          03:20:00     02:59:00          -21.0  "
      ]
     },
     "execution_count": 12,
     "metadata": {},
     "output_type": "execute_result"
    }
   ],
   "source": [
    "df_train.head()"
   ]
  },
  {
   "cell_type": "code",
   "execution_count": 13,
   "id": "b0e85ffa-7937-4033-9f67-489c857ee542",
   "metadata": {},
   "outputs": [],
   "source": [
    "def create_df(df, carrier):\n",
    "    df2 = df[df['AIRLINE'] == carrier][['DATE','SCHEDULED_DEPARTURE','SCHEDULED_ARRIVAL',\n",
    "                                    'ORIGIN_AIRPORT','DESTINATION_AIRPORT','DEPARTURE_DELAY']]\n",
    "    df2.dropna(how = 'any', inplace = True)\n",
    "    df2['weekday'] = df2['DATE'].apply(lambda x:x.weekday())\n",
    "    #____________________\n",
    "    # delete delays > 1h\n",
    "    df2['DEPARTURE_DELAY'] = df2['DEPARTURE_DELAY'].apply(lambda x:x if x < 60 else np.nan)\n",
    "    df2.dropna(how = 'any', inplace = True)\n",
    "    #_________________\n",
    "    # formating times\n",
    "    fct = lambda x:x.hour*3600+x.minute*60+x.second\n",
    "    df2['heure_depart'] = df2['SCHEDULED_DEPARTURE'].apply(fct)\n",
    "    df2['heure_arrivee'] = df2['SCHEDULED_ARRIVAL'].apply(fct)\n",
    "    df3 = df2.groupby(['heure_depart', 'heure_arrivee', 'ORIGIN_AIRPORT','weekday',]).agg({\n",
    "        'DEPARTURE_DELAY': 'mean'  # Calculez la moyenne seulement pour les retards de départ\n",
    "    }).reset_index()\n",
    "    return df3"
   ]
  },
  {
   "cell_type": "code",
   "execution_count": 18,
   "id": "15cdc7ab-148c-491a-bcbf-aead9b8673dc",
   "metadata": {},
   "outputs": [],
   "source": [
    "carrier = 'AA'\n",
    "df_model = create_df(df_train, carrier)"
   ]
  },
  {
   "cell_type": "code",
   "execution_count": 19,
   "id": "1fca3f42-9004-4b5f-8e81-8297d42a31b3",
   "metadata": {},
   "outputs": [
    {
     "data": {
      "text/html": [
       "<div>\n",
       "<style scoped>\n",
       "    .dataframe tbody tr th:only-of-type {\n",
       "        vertical-align: middle;\n",
       "    }\n",
       "\n",
       "    .dataframe tbody tr th {\n",
       "        vertical-align: top;\n",
       "    }\n",
       "\n",
       "    .dataframe thead th {\n",
       "        text-align: right;\n",
       "    }\n",
       "</style>\n",
       "<table border=\"1\" class=\"dataframe\">\n",
       "  <thead>\n",
       "    <tr style=\"text-align: right;\">\n",
       "      <th></th>\n",
       "      <th>heure_depart</th>\n",
       "      <th>heure_arrivee</th>\n",
       "      <th>ORIGIN_AIRPORT</th>\n",
       "      <th>weekday</th>\n",
       "      <th>DEPARTURE_DELAY</th>\n",
       "    </tr>\n",
       "  </thead>\n",
       "  <tbody>\n",
       "    <tr>\n",
       "      <th>0</th>\n",
       "      <td>300</td>\n",
       "      <td>17640</td>\n",
       "      <td>LAX</td>\n",
       "      <td>0</td>\n",
       "      <td>-6.500000</td>\n",
       "    </tr>\n",
       "    <tr>\n",
       "      <th>1</th>\n",
       "      <td>300</td>\n",
       "      <td>17640</td>\n",
       "      <td>LAX</td>\n",
       "      <td>1</td>\n",
       "      <td>-0.333333</td>\n",
       "    </tr>\n",
       "    <tr>\n",
       "      <th>2</th>\n",
       "      <td>300</td>\n",
       "      <td>17640</td>\n",
       "      <td>LAX</td>\n",
       "      <td>2</td>\n",
       "      <td>2.500000</td>\n",
       "    </tr>\n",
       "    <tr>\n",
       "      <th>3</th>\n",
       "      <td>300</td>\n",
       "      <td>17640</td>\n",
       "      <td>LAX</td>\n",
       "      <td>3</td>\n",
       "      <td>-1.666667</td>\n",
       "    </tr>\n",
       "    <tr>\n",
       "      <th>4</th>\n",
       "      <td>300</td>\n",
       "      <td>17640</td>\n",
       "      <td>LAX</td>\n",
       "      <td>4</td>\n",
       "      <td>9.000000</td>\n",
       "    </tr>\n",
       "    <tr>\n",
       "      <th>...</th>\n",
       "      <td>...</td>\n",
       "      <td>...</td>\n",
       "      <td>...</td>\n",
       "      <td>...</td>\n",
       "      <td>...</td>\n",
       "    </tr>\n",
       "    <tr>\n",
       "      <th>15779</th>\n",
       "      <td>86100</td>\n",
       "      <td>30360</td>\n",
       "      <td>SEA</td>\n",
       "      <td>2</td>\n",
       "      <td>-2.000000</td>\n",
       "    </tr>\n",
       "    <tr>\n",
       "      <th>15780</th>\n",
       "      <td>86100</td>\n",
       "      <td>30360</td>\n",
       "      <td>SEA</td>\n",
       "      <td>3</td>\n",
       "      <td>2.666667</td>\n",
       "    </tr>\n",
       "    <tr>\n",
       "      <th>15781</th>\n",
       "      <td>86100</td>\n",
       "      <td>30360</td>\n",
       "      <td>SEA</td>\n",
       "      <td>4</td>\n",
       "      <td>-2.500000</td>\n",
       "    </tr>\n",
       "    <tr>\n",
       "      <th>15782</th>\n",
       "      <td>86100</td>\n",
       "      <td>30360</td>\n",
       "      <td>SEA</td>\n",
       "      <td>5</td>\n",
       "      <td>-1.500000</td>\n",
       "    </tr>\n",
       "    <tr>\n",
       "      <th>15783</th>\n",
       "      <td>86100</td>\n",
       "      <td>30360</td>\n",
       "      <td>SEA</td>\n",
       "      <td>6</td>\n",
       "      <td>2.000000</td>\n",
       "    </tr>\n",
       "  </tbody>\n",
       "</table>\n",
       "<p>15784 rows × 5 columns</p>\n",
       "</div>"
      ],
      "text/plain": [
       "       heure_depart  heure_arrivee ORIGIN_AIRPORT  weekday  DEPARTURE_DELAY\n",
       "0               300          17640            LAX        0        -6.500000\n",
       "1               300          17640            LAX        1        -0.333333\n",
       "2               300          17640            LAX        2         2.500000\n",
       "3               300          17640            LAX        3        -1.666667\n",
       "4               300          17640            LAX        4         9.000000\n",
       "...             ...            ...            ...      ...              ...\n",
       "15779         86100          30360            SEA        2        -2.000000\n",
       "15780         86100          30360            SEA        3         2.666667\n",
       "15781         86100          30360            SEA        4        -2.500000\n",
       "15782         86100          30360            SEA        5        -1.500000\n",
       "15783         86100          30360            SEA        6         2.000000\n",
       "\n",
       "[15784 rows x 5 columns]"
      ]
     },
     "execution_count": 19,
     "metadata": {},
     "output_type": "execute_result"
    }
   ],
   "source": [
    "df_model"
   ]
  },
  {
   "cell_type": "code",
   "execution_count": 20,
   "id": "2e1792c7-15d4-4944-8587-cacf4258fdeb",
   "metadata": {},
   "outputs": [],
   "source": [
    "label_encoder = LabelEncoder()\n",
    "integer_encoded = label_encoder.fit_transform(df_model['ORIGIN_AIRPORT'])\n",
    "#_________________________________________________________\n",
    "zipped = zip(integer_encoded, df_model['ORIGIN_AIRPORT'])\n",
    "label_airports = list(set(list(zipped)))\n",
    "label_airports.sort(key = lambda x:x[0])\n",
    "#_________________________________________________\n",
    "onehot_encoder = OneHotEncoder(sparse_output=False)\n",
    "integer_encoded = integer_encoded.reshape(len(integer_encoded), 1)\n",
    "onehot_encoded = onehot_encoder.fit_transform(integer_encoded)\n",
    "#_________________________________________________\n",
    "b = np.array(df_model[['heure_depart', 'heure_arrivee']])\n",
    "X = np.hstack((onehot_encoded, b))\n",
    "Y = np.array(df_model['DEPARTURE_DELAY'])\n",
    "Y = Y.reshape(len(Y), 1)"
   ]
  },
  {
   "cell_type": "code",
   "execution_count": 68,
   "id": "26afe398-44b3-47de-b957-c93d1132dd3e",
   "metadata": {},
   "outputs": [],
   "source": [
    "X_train, X_test, Y_train, Y_test = train_test_split(X, Y, test_size=0.3)"
   ]
  },
  {
   "cell_type": "code",
   "execution_count": 69,
   "id": "ef882eab-c08a-41d8-acdb-0adafc6e795f",
   "metadata": {},
   "outputs": [],
   "source": [
    "del df_model"
   ]
  },
  {
   "cell_type": "markdown",
   "id": "ee6539cd-bb64-4fe9-8315-a192a51d3fb8",
   "metadata": {},
   "source": [
    "# Entraîner le modèle sur les trois premières semaines de janvier"
   ]
  },
  {
   "cell_type": "markdown",
   "id": "e0c1ed7d-4069-4b7f-af0d-b6099296fa21",
   "metadata": {},
   "source": [
    "## Ridge Regression"
   ]
  },
  {
   "cell_type": "markdown",
   "id": "0e8971ca-92f5-4355-a881-3add26088791",
   "metadata": {},
   "source": [
    "Bon point de départ pour la prédiction, facile à interpréter et nous sert de baselines pour comparer les performances des autres modèles"
   ]
  },
  {
   "cell_type": "code",
   "execution_count": 16,
   "id": "eee3f387-1f6f-4003-a2c7-a4aad052032f",
   "metadata": {},
   "outputs": [
    {
     "name": "stdout",
     "output_type": "stream",
     "text": [
      "Fitting 5 folds for each of 20 candidates, totalling 100 fits\n"
     ]
    },
    {
     "data": {
      "text/html": [
       "<style>#sk-container-id-1 {color: black;}#sk-container-id-1 pre{padding: 0;}#sk-container-id-1 div.sk-toggleable {background-color: white;}#sk-container-id-1 label.sk-toggleable__label {cursor: pointer;display: block;width: 100%;margin-bottom: 0;padding: 0.3em;box-sizing: border-box;text-align: center;}#sk-container-id-1 label.sk-toggleable__label-arrow:before {content: \"▸\";float: left;margin-right: 0.25em;color: #696969;}#sk-container-id-1 label.sk-toggleable__label-arrow:hover:before {color: black;}#sk-container-id-1 div.sk-estimator:hover label.sk-toggleable__label-arrow:before {color: black;}#sk-container-id-1 div.sk-toggleable__content {max-height: 0;max-width: 0;overflow: hidden;text-align: left;background-color: #f0f8ff;}#sk-container-id-1 div.sk-toggleable__content pre {margin: 0.2em;color: black;border-radius: 0.25em;background-color: #f0f8ff;}#sk-container-id-1 input.sk-toggleable__control:checked~div.sk-toggleable__content {max-height: 200px;max-width: 100%;overflow: auto;}#sk-container-id-1 input.sk-toggleable__control:checked~label.sk-toggleable__label-arrow:before {content: \"▾\";}#sk-container-id-1 div.sk-estimator input.sk-toggleable__control:checked~label.sk-toggleable__label {background-color: #d4ebff;}#sk-container-id-1 div.sk-label input.sk-toggleable__control:checked~label.sk-toggleable__label {background-color: #d4ebff;}#sk-container-id-1 input.sk-hidden--visually {border: 0;clip: rect(1px 1px 1px 1px);clip: rect(1px, 1px, 1px, 1px);height: 1px;margin: -1px;overflow: hidden;padding: 0;position: absolute;width: 1px;}#sk-container-id-1 div.sk-estimator {font-family: monospace;background-color: #f0f8ff;border: 1px dotted black;border-radius: 0.25em;box-sizing: border-box;margin-bottom: 0.5em;}#sk-container-id-1 div.sk-estimator:hover {background-color: #d4ebff;}#sk-container-id-1 div.sk-parallel-item::after {content: \"\";width: 100%;border-bottom: 1px solid gray;flex-grow: 1;}#sk-container-id-1 div.sk-label:hover label.sk-toggleable__label {background-color: #d4ebff;}#sk-container-id-1 div.sk-serial::before {content: \"\";position: absolute;border-left: 1px solid gray;box-sizing: border-box;top: 0;bottom: 0;left: 50%;z-index: 0;}#sk-container-id-1 div.sk-serial {display: flex;flex-direction: column;align-items: center;background-color: white;padding-right: 0.2em;padding-left: 0.2em;position: relative;}#sk-container-id-1 div.sk-item {position: relative;z-index: 1;}#sk-container-id-1 div.sk-parallel {display: flex;align-items: stretch;justify-content: center;background-color: white;position: relative;}#sk-container-id-1 div.sk-item::before, #sk-container-id-1 div.sk-parallel-item::before {content: \"\";position: absolute;border-left: 1px solid gray;box-sizing: border-box;top: 0;bottom: 0;left: 50%;z-index: -1;}#sk-container-id-1 div.sk-parallel-item {display: flex;flex-direction: column;z-index: 1;position: relative;background-color: white;}#sk-container-id-1 div.sk-parallel-item:first-child::after {align-self: flex-end;width: 50%;}#sk-container-id-1 div.sk-parallel-item:last-child::after {align-self: flex-start;width: 50%;}#sk-container-id-1 div.sk-parallel-item:only-child::after {width: 0;}#sk-container-id-1 div.sk-dashed-wrapped {border: 1px dashed gray;margin: 0 0.4em 0.5em 0.4em;box-sizing: border-box;padding-bottom: 0.4em;background-color: white;}#sk-container-id-1 div.sk-label label {font-family: monospace;font-weight: bold;display: inline-block;line-height: 1.2em;}#sk-container-id-1 div.sk-label-container {text-align: center;}#sk-container-id-1 div.sk-container {/* jupyter's `normalize.less` sets `[hidden] { display: none; }` but bootstrap.min.css set `[hidden] { display: none !important; }` so we also need the `!important` here to be able to override the default hidden behavior on the sphinx rendered scikit-learn.org. See: https://github.com/scikit-learn/scikit-learn/issues/21755 */display: inline-block !important;position: relative;}#sk-container-id-1 div.sk-text-repr-fallback {display: none;}</style><div id=\"sk-container-id-1\" class=\"sk-top-container\"><div class=\"sk-text-repr-fallback\"><pre>GridSearchCV(cv=5,\n",
       "             estimator=Pipeline(steps=[(&#x27;poly&#x27;, PolynomialFeatures()),\n",
       "                                       (&#x27;scaler&#x27;, StandardScaler()),\n",
       "                                       (&#x27;ridge&#x27;, Ridge())]),\n",
       "             param_grid={&#x27;poly__degree&#x27;: [1, 2],\n",
       "                         &#x27;ridge__alpha&#x27;: [0.0, 0.2, 0.4, 0.6, 0.8, 1.0, 1.2,\n",
       "                                          1.4, 1.6, 1.8]},\n",
       "             verbose=1)</pre><b>In a Jupyter environment, please rerun this cell to show the HTML representation or trust the notebook. <br />On GitHub, the HTML representation is unable to render, please try loading this page with nbviewer.org.</b></div><div class=\"sk-container\" hidden><div class=\"sk-item sk-dashed-wrapped\"><div class=\"sk-label-container\"><div class=\"sk-label sk-toggleable\"><input class=\"sk-toggleable__control sk-hidden--visually\" id=\"sk-estimator-id-1\" type=\"checkbox\" ><label for=\"sk-estimator-id-1\" class=\"sk-toggleable__label sk-toggleable__label-arrow\">GridSearchCV</label><div class=\"sk-toggleable__content\"><pre>GridSearchCV(cv=5,\n",
       "             estimator=Pipeline(steps=[(&#x27;poly&#x27;, PolynomialFeatures()),\n",
       "                                       (&#x27;scaler&#x27;, StandardScaler()),\n",
       "                                       (&#x27;ridge&#x27;, Ridge())]),\n",
       "             param_grid={&#x27;poly__degree&#x27;: [1, 2],\n",
       "                         &#x27;ridge__alpha&#x27;: [0.0, 0.2, 0.4, 0.6, 0.8, 1.0, 1.2,\n",
       "                                          1.4, 1.6, 1.8]},\n",
       "             verbose=1)</pre></div></div></div><div class=\"sk-parallel\"><div class=\"sk-parallel-item\"><div class=\"sk-item\"><div class=\"sk-label-container\"><div class=\"sk-label sk-toggleable\"><input class=\"sk-toggleable__control sk-hidden--visually\" id=\"sk-estimator-id-2\" type=\"checkbox\" ><label for=\"sk-estimator-id-2\" class=\"sk-toggleable__label sk-toggleable__label-arrow\">estimator: Pipeline</label><div class=\"sk-toggleable__content\"><pre>Pipeline(steps=[(&#x27;poly&#x27;, PolynomialFeatures()), (&#x27;scaler&#x27;, StandardScaler()),\n",
       "                (&#x27;ridge&#x27;, Ridge())])</pre></div></div></div><div class=\"sk-serial\"><div class=\"sk-item\"><div class=\"sk-serial\"><div class=\"sk-item\"><div class=\"sk-estimator sk-toggleable\"><input class=\"sk-toggleable__control sk-hidden--visually\" id=\"sk-estimator-id-3\" type=\"checkbox\" ><label for=\"sk-estimator-id-3\" class=\"sk-toggleable__label sk-toggleable__label-arrow\">PolynomialFeatures</label><div class=\"sk-toggleable__content\"><pre>PolynomialFeatures()</pre></div></div></div><div class=\"sk-item\"><div class=\"sk-estimator sk-toggleable\"><input class=\"sk-toggleable__control sk-hidden--visually\" id=\"sk-estimator-id-4\" type=\"checkbox\" ><label for=\"sk-estimator-id-4\" class=\"sk-toggleable__label sk-toggleable__label-arrow\">StandardScaler</label><div class=\"sk-toggleable__content\"><pre>StandardScaler()</pre></div></div></div><div class=\"sk-item\"><div class=\"sk-estimator sk-toggleable\"><input class=\"sk-toggleable__control sk-hidden--visually\" id=\"sk-estimator-id-5\" type=\"checkbox\" ><label for=\"sk-estimator-id-5\" class=\"sk-toggleable__label sk-toggleable__label-arrow\">Ridge</label><div class=\"sk-toggleable__content\"><pre>Ridge()</pre></div></div></div></div></div></div></div></div></div></div></div></div>"
      ],
      "text/plain": [
       "GridSearchCV(cv=5,\n",
       "             estimator=Pipeline(steps=[('poly', PolynomialFeatures()),\n",
       "                                       ('scaler', StandardScaler()),\n",
       "                                       ('ridge', Ridge())]),\n",
       "             param_grid={'poly__degree': [1, 2],\n",
       "                         'ridge__alpha': [0.0, 0.2, 0.4, 0.6, 0.8, 1.0, 1.2,\n",
       "                                          1.4, 1.6, 1.8]},\n",
       "             verbose=1)"
      ]
     },
     "execution_count": 16,
     "metadata": {},
     "output_type": "execute_result"
    }
   ],
   "source": [
    "# Step 1: Setup the pipeline with PolynomialFeatures, StandardScaler, and Ridge\n",
    "pipeline_ridge = Pipeline([\n",
    "    ('poly', PolynomialFeatures()),\n",
    "    ('scaler', StandardScaler()),  # Add a scaler to normalize the data\n",
    "    ('ridge', Ridge())\n",
    "])\n",
    "\n",
    "# Step 2: Define the parameter grid\n",
    "param_grid_ridge = {\n",
    "    'poly__degree': [1, 2],  # Degrees of the polynomial to test\n",
    "    'ridge__alpha': [i / 10.0 for i in range(0, 20, 2)]  # Alpha values to test\n",
    "}\n",
    "\n",
    "# Step 3: Initialize GridSearchCV\n",
    "grid_search_ridge = GridSearchCV(pipeline_ridge, param_grid_ridge, cv=5, verbose=1)\n",
    "\n",
    "# Assuming X_train and Y_train are defined\n",
    "grid_search_ridge.fit(X_train, Y_train)"
   ]
  },
  {
   "cell_type": "code",
   "execution_count": 17,
   "id": "bcb09640-8292-4531-8ec9-9e4a77d0b9d5",
   "metadata": {},
   "outputs": [
    {
     "name": "stdout",
     "output_type": "stream",
     "text": [
      "Best parameters found: {'poly__degree': 1, 'ridge__alpha': 1.8}\n",
      "Best cross-validation score (MSE): 0.07832608619896408\n"
     ]
    }
   ],
   "source": [
    "# Step 6: Best model parameters and score\n",
    "print(\"Best parameters found:\", grid_search_ridge.best_params_)\n",
    "print(\"Best cross-validation score (MSE):\", grid_search_ridge.best_score_)"
   ]
  },
  {
   "cell_type": "code",
   "execution_count": 18,
   "id": "b445edbf-ec78-45df-9081-607839d92f40",
   "metadata": {},
   "outputs": [
    {
     "name": "stdout",
     "output_type": "stream",
     "text": [
      "Test set MSE: 164.47061972935217\n",
      "Ecart = 12.82 min\n"
     ]
    }
   ],
   "source": [
    "# Step 7: Test set performance\n",
    "best_model_ridge = grid_search_ridge.best_estimator_\n",
    "predictions_ridge = best_model_ridge.predict(X_test)\n",
    "test_mse_ridge = mean_squared_error(Y_test, predictions_ridge)\n",
    "print(\"Test set MSE:\", test_mse_ridge)\n",
    "print('Ecart = {:.2f} min'.format(np.sqrt(test_mse_ridge)))"
   ]
  },
  {
   "cell_type": "code",
   "execution_count": 23,
   "id": "4534253b-34e7-4ed4-9e88-133feb6fb5f1",
   "metadata": {},
   "outputs": [],
   "source": [
    "# save the iris classification model as a pickle file\n",
    "model_pkl_file = f\"./results/ridge_model.pkl\"  \n",
    "\n",
    "with open(model_pkl_file, 'wb') as file:  \n",
    "    pickle.dump(best_model_ridge, file)"
   ]
  },
  {
   "cell_type": "markdown",
   "id": "43549fb7-f724-4ec1-b922-8347fa5cfcd0",
   "metadata": {},
   "source": [
    "## Lasso"
   ]
  },
  {
   "cell_type": "code",
   "execution_count": 25,
   "id": "11168234-44f4-4f0f-85bd-992d6a26bd93",
   "metadata": {},
   "outputs": [
    {
     "name": "stdout",
     "output_type": "stream",
     "text": [
      "Fitting 5 folds for each of 10 candidates, totalling 50 fits\n"
     ]
    },
    {
     "name": "stderr",
     "output_type": "stream",
     "text": [
      "C:\\Users\\Melissa\\anaconda3\\envs\\Sorbonne\\Lib\\site-packages\\sklearn\\linear_model\\_coordinate_descent.py:628: ConvergenceWarning: Objective did not converge. You might want to increase the number of iterations, check the scale of the features or consider increasing regularisation. Duality gap: 1.033e+03, tolerance: 1.639e+02\n",
      "  model = cd_fast.enet_coordinate_descent(\n",
      "C:\\Users\\Melissa\\anaconda3\\envs\\Sorbonne\\Lib\\site-packages\\sklearn\\linear_model\\_coordinate_descent.py:628: ConvergenceWarning: Objective did not converge. You might want to increase the number of iterations, check the scale of the features or consider increasing regularisation. Duality gap: 1.762e+02, tolerance: 1.646e+02\n",
      "  model = cd_fast.enet_coordinate_descent(\n"
     ]
    },
    {
     "data": {
      "text/html": [
       "<style>#sk-container-id-2 {color: black;}#sk-container-id-2 pre{padding: 0;}#sk-container-id-2 div.sk-toggleable {background-color: white;}#sk-container-id-2 label.sk-toggleable__label {cursor: pointer;display: block;width: 100%;margin-bottom: 0;padding: 0.3em;box-sizing: border-box;text-align: center;}#sk-container-id-2 label.sk-toggleable__label-arrow:before {content: \"▸\";float: left;margin-right: 0.25em;color: #696969;}#sk-container-id-2 label.sk-toggleable__label-arrow:hover:before {color: black;}#sk-container-id-2 div.sk-estimator:hover label.sk-toggleable__label-arrow:before {color: black;}#sk-container-id-2 div.sk-toggleable__content {max-height: 0;max-width: 0;overflow: hidden;text-align: left;background-color: #f0f8ff;}#sk-container-id-2 div.sk-toggleable__content pre {margin: 0.2em;color: black;border-radius: 0.25em;background-color: #f0f8ff;}#sk-container-id-2 input.sk-toggleable__control:checked~div.sk-toggleable__content {max-height: 200px;max-width: 100%;overflow: auto;}#sk-container-id-2 input.sk-toggleable__control:checked~label.sk-toggleable__label-arrow:before {content: \"▾\";}#sk-container-id-2 div.sk-estimator input.sk-toggleable__control:checked~label.sk-toggleable__label {background-color: #d4ebff;}#sk-container-id-2 div.sk-label input.sk-toggleable__control:checked~label.sk-toggleable__label {background-color: #d4ebff;}#sk-container-id-2 input.sk-hidden--visually {border: 0;clip: rect(1px 1px 1px 1px);clip: rect(1px, 1px, 1px, 1px);height: 1px;margin: -1px;overflow: hidden;padding: 0;position: absolute;width: 1px;}#sk-container-id-2 div.sk-estimator {font-family: monospace;background-color: #f0f8ff;border: 1px dotted black;border-radius: 0.25em;box-sizing: border-box;margin-bottom: 0.5em;}#sk-container-id-2 div.sk-estimator:hover {background-color: #d4ebff;}#sk-container-id-2 div.sk-parallel-item::after {content: \"\";width: 100%;border-bottom: 1px solid gray;flex-grow: 1;}#sk-container-id-2 div.sk-label:hover label.sk-toggleable__label {background-color: #d4ebff;}#sk-container-id-2 div.sk-serial::before {content: \"\";position: absolute;border-left: 1px solid gray;box-sizing: border-box;top: 0;bottom: 0;left: 50%;z-index: 0;}#sk-container-id-2 div.sk-serial {display: flex;flex-direction: column;align-items: center;background-color: white;padding-right: 0.2em;padding-left: 0.2em;position: relative;}#sk-container-id-2 div.sk-item {position: relative;z-index: 1;}#sk-container-id-2 div.sk-parallel {display: flex;align-items: stretch;justify-content: center;background-color: white;position: relative;}#sk-container-id-2 div.sk-item::before, #sk-container-id-2 div.sk-parallel-item::before {content: \"\";position: absolute;border-left: 1px solid gray;box-sizing: border-box;top: 0;bottom: 0;left: 50%;z-index: -1;}#sk-container-id-2 div.sk-parallel-item {display: flex;flex-direction: column;z-index: 1;position: relative;background-color: white;}#sk-container-id-2 div.sk-parallel-item:first-child::after {align-self: flex-end;width: 50%;}#sk-container-id-2 div.sk-parallel-item:last-child::after {align-self: flex-start;width: 50%;}#sk-container-id-2 div.sk-parallel-item:only-child::after {width: 0;}#sk-container-id-2 div.sk-dashed-wrapped {border: 1px dashed gray;margin: 0 0.4em 0.5em 0.4em;box-sizing: border-box;padding-bottom: 0.4em;background-color: white;}#sk-container-id-2 div.sk-label label {font-family: monospace;font-weight: bold;display: inline-block;line-height: 1.2em;}#sk-container-id-2 div.sk-label-container {text-align: center;}#sk-container-id-2 div.sk-container {/* jupyter's `normalize.less` sets `[hidden] { display: none; }` but bootstrap.min.css set `[hidden] { display: none !important; }` so we also need the `!important` here to be able to override the default hidden behavior on the sphinx rendered scikit-learn.org. See: https://github.com/scikit-learn/scikit-learn/issues/21755 */display: inline-block !important;position: relative;}#sk-container-id-2 div.sk-text-repr-fallback {display: none;}</style><div id=\"sk-container-id-2\" class=\"sk-top-container\"><div class=\"sk-text-repr-fallback\"><pre>GridSearchCV(cv=5,\n",
       "             estimator=Pipeline(steps=[(&#x27;poly&#x27;, PolynomialFeatures()),\n",
       "                                       (&#x27;scaler&#x27;, StandardScaler()),\n",
       "                                       (&#x27;lasso&#x27;, Lasso(max_iter=25000))]),\n",
       "             param_grid={&#x27;lasso__alpha&#x27;: [0.001, 0.01, 0.1, 1, 10],\n",
       "                         &#x27;poly__degree&#x27;: [1, 2]},\n",
       "             verbose=1)</pre><b>In a Jupyter environment, please rerun this cell to show the HTML representation or trust the notebook. <br />On GitHub, the HTML representation is unable to render, please try loading this page with nbviewer.org.</b></div><div class=\"sk-container\" hidden><div class=\"sk-item sk-dashed-wrapped\"><div class=\"sk-label-container\"><div class=\"sk-label sk-toggleable\"><input class=\"sk-toggleable__control sk-hidden--visually\" id=\"sk-estimator-id-6\" type=\"checkbox\" ><label for=\"sk-estimator-id-6\" class=\"sk-toggleable__label sk-toggleable__label-arrow\">GridSearchCV</label><div class=\"sk-toggleable__content\"><pre>GridSearchCV(cv=5,\n",
       "             estimator=Pipeline(steps=[(&#x27;poly&#x27;, PolynomialFeatures()),\n",
       "                                       (&#x27;scaler&#x27;, StandardScaler()),\n",
       "                                       (&#x27;lasso&#x27;, Lasso(max_iter=25000))]),\n",
       "             param_grid={&#x27;lasso__alpha&#x27;: [0.001, 0.01, 0.1, 1, 10],\n",
       "                         &#x27;poly__degree&#x27;: [1, 2]},\n",
       "             verbose=1)</pre></div></div></div><div class=\"sk-parallel\"><div class=\"sk-parallel-item\"><div class=\"sk-item\"><div class=\"sk-label-container\"><div class=\"sk-label sk-toggleable\"><input class=\"sk-toggleable__control sk-hidden--visually\" id=\"sk-estimator-id-7\" type=\"checkbox\" ><label for=\"sk-estimator-id-7\" class=\"sk-toggleable__label sk-toggleable__label-arrow\">estimator: Pipeline</label><div class=\"sk-toggleable__content\"><pre>Pipeline(steps=[(&#x27;poly&#x27;, PolynomialFeatures()), (&#x27;scaler&#x27;, StandardScaler()),\n",
       "                (&#x27;lasso&#x27;, Lasso(max_iter=25000))])</pre></div></div></div><div class=\"sk-serial\"><div class=\"sk-item\"><div class=\"sk-serial\"><div class=\"sk-item\"><div class=\"sk-estimator sk-toggleable\"><input class=\"sk-toggleable__control sk-hidden--visually\" id=\"sk-estimator-id-8\" type=\"checkbox\" ><label for=\"sk-estimator-id-8\" class=\"sk-toggleable__label sk-toggleable__label-arrow\">PolynomialFeatures</label><div class=\"sk-toggleable__content\"><pre>PolynomialFeatures()</pre></div></div></div><div class=\"sk-item\"><div class=\"sk-estimator sk-toggleable\"><input class=\"sk-toggleable__control sk-hidden--visually\" id=\"sk-estimator-id-9\" type=\"checkbox\" ><label for=\"sk-estimator-id-9\" class=\"sk-toggleable__label sk-toggleable__label-arrow\">StandardScaler</label><div class=\"sk-toggleable__content\"><pre>StandardScaler()</pre></div></div></div><div class=\"sk-item\"><div class=\"sk-estimator sk-toggleable\"><input class=\"sk-toggleable__control sk-hidden--visually\" id=\"sk-estimator-id-10\" type=\"checkbox\" ><label for=\"sk-estimator-id-10\" class=\"sk-toggleable__label sk-toggleable__label-arrow\">Lasso</label><div class=\"sk-toggleable__content\"><pre>Lasso(max_iter=25000)</pre></div></div></div></div></div></div></div></div></div></div></div></div>"
      ],
      "text/plain": [
       "GridSearchCV(cv=5,\n",
       "             estimator=Pipeline(steps=[('poly', PolynomialFeatures()),\n",
       "                                       ('scaler', StandardScaler()),\n",
       "                                       ('lasso', Lasso(max_iter=25000))]),\n",
       "             param_grid={'lasso__alpha': [0.001, 0.01, 0.1, 1, 10],\n",
       "                         'poly__degree': [1, 2]},\n",
       "             verbose=1)"
      ]
     },
     "execution_count": 25,
     "metadata": {},
     "output_type": "execute_result"
    }
   ],
   "source": [
    "# Configuration du pipeline avec Lasso\n",
    "pipeline_lasso = Pipeline([\n",
    "    ('poly', PolynomialFeatures()),\n",
    "    ('scaler', StandardScaler()),\n",
    "    ('lasso', Lasso(max_iter=25000))\n",
    "])\n",
    "\n",
    "# Grille de paramètres pour Lasso\n",
    "param_grid_lasso = {\n",
    "    'poly__degree': [1, 2],\n",
    "    'lasso__alpha': [0.001, 0.01, 0.1, 1, 10]  # Différents niveaux de régularisation\n",
    "}\n",
    "\n",
    "# Initialisation de GridSearchCV\n",
    "grid_search_lasso = GridSearchCV(pipeline_lasso, param_grid_lasso, cv=5, verbose=1)\n",
    "grid_search_lasso.fit(X_train, Y_train)"
   ]
  },
  {
   "cell_type": "code",
   "execution_count": 26,
   "id": "2a35cf05-a9c1-4584-8d3c-6aa1d41fd951",
   "metadata": {},
   "outputs": [
    {
     "name": "stdout",
     "output_type": "stream",
     "text": [
      "Best parameters found: {'lasso__alpha': 0.1, 'poly__degree': 2}\n",
      "Best cross-validation score: 0.08347925069283328\n"
     ]
    }
   ],
   "source": [
    "# Affichage des meilleurs paramètres et score\n",
    "print(\"Best parameters found:\", grid_search_lasso.best_params_)\n",
    "print(\"Best cross-validation score:\", grid_search_lasso.best_score_)"
   ]
  },
  {
   "cell_type": "code",
   "execution_count": 27,
   "id": "84777887-1ae3-4a62-bbb1-ea28984563fc",
   "metadata": {},
   "outputs": [
    {
     "name": "stdout",
     "output_type": "stream",
     "text": [
      "Test set MSE: 163.88125479479848\n",
      "Ecart = 12.80 min\n"
     ]
    }
   ],
   "source": [
    "# Step 7: Test set performance\n",
    "best_model_lasso = grid_search_lasso.best_estimator_\n",
    "predictions_lasso = best_model_lasso.predict(X_test)\n",
    "test_mse_lasso = mean_squared_error(Y_test, predictions_lasso)\n",
    "print(\"Test set MSE:\", test_mse_lasso)\n",
    "print('Ecart = {:.2f} min'.format(np.sqrt(test_mse_lasso)))"
   ]
  },
  {
   "cell_type": "code",
   "execution_count": 28,
   "id": "4a66dc6a-9a26-4fc5-956c-1e9d1553b475",
   "metadata": {},
   "outputs": [],
   "source": [
    "# save the iris classification model as a pickle file\n",
    "model_pkl_file = f\"./results/lasso_model.pkl\"  \n",
    "\n",
    "with open(model_pkl_file, 'wb') as file:  \n",
    "    pickle.dump(best_model_lasso, file)"
   ]
  },
  {
   "cell_type": "markdown",
   "id": "897d2d4e-940d-4b81-94c3-d99d71758440",
   "metadata": {},
   "source": [
    "## Elastic Net"
   ]
  },
  {
   "cell_type": "code",
   "execution_count": 29,
   "id": "d890fc09-8bd2-4bad-b35d-8bcabe72316f",
   "metadata": {},
   "outputs": [
    {
     "name": "stdout",
     "output_type": "stream",
     "text": [
      "Fitting 5 folds for each of 24 candidates, totalling 120 fits\n"
     ]
    },
    {
     "data": {
      "text/html": [
       "<style>#sk-container-id-3 {color: black;}#sk-container-id-3 pre{padding: 0;}#sk-container-id-3 div.sk-toggleable {background-color: white;}#sk-container-id-3 label.sk-toggleable__label {cursor: pointer;display: block;width: 100%;margin-bottom: 0;padding: 0.3em;box-sizing: border-box;text-align: center;}#sk-container-id-3 label.sk-toggleable__label-arrow:before {content: \"▸\";float: left;margin-right: 0.25em;color: #696969;}#sk-container-id-3 label.sk-toggleable__label-arrow:hover:before {color: black;}#sk-container-id-3 div.sk-estimator:hover label.sk-toggleable__label-arrow:before {color: black;}#sk-container-id-3 div.sk-toggleable__content {max-height: 0;max-width: 0;overflow: hidden;text-align: left;background-color: #f0f8ff;}#sk-container-id-3 div.sk-toggleable__content pre {margin: 0.2em;color: black;border-radius: 0.25em;background-color: #f0f8ff;}#sk-container-id-3 input.sk-toggleable__control:checked~div.sk-toggleable__content {max-height: 200px;max-width: 100%;overflow: auto;}#sk-container-id-3 input.sk-toggleable__control:checked~label.sk-toggleable__label-arrow:before {content: \"▾\";}#sk-container-id-3 div.sk-estimator input.sk-toggleable__control:checked~label.sk-toggleable__label {background-color: #d4ebff;}#sk-container-id-3 div.sk-label input.sk-toggleable__control:checked~label.sk-toggleable__label {background-color: #d4ebff;}#sk-container-id-3 input.sk-hidden--visually {border: 0;clip: rect(1px 1px 1px 1px);clip: rect(1px, 1px, 1px, 1px);height: 1px;margin: -1px;overflow: hidden;padding: 0;position: absolute;width: 1px;}#sk-container-id-3 div.sk-estimator {font-family: monospace;background-color: #f0f8ff;border: 1px dotted black;border-radius: 0.25em;box-sizing: border-box;margin-bottom: 0.5em;}#sk-container-id-3 div.sk-estimator:hover {background-color: #d4ebff;}#sk-container-id-3 div.sk-parallel-item::after {content: \"\";width: 100%;border-bottom: 1px solid gray;flex-grow: 1;}#sk-container-id-3 div.sk-label:hover label.sk-toggleable__label {background-color: #d4ebff;}#sk-container-id-3 div.sk-serial::before {content: \"\";position: absolute;border-left: 1px solid gray;box-sizing: border-box;top: 0;bottom: 0;left: 50%;z-index: 0;}#sk-container-id-3 div.sk-serial {display: flex;flex-direction: column;align-items: center;background-color: white;padding-right: 0.2em;padding-left: 0.2em;position: relative;}#sk-container-id-3 div.sk-item {position: relative;z-index: 1;}#sk-container-id-3 div.sk-parallel {display: flex;align-items: stretch;justify-content: center;background-color: white;position: relative;}#sk-container-id-3 div.sk-item::before, #sk-container-id-3 div.sk-parallel-item::before {content: \"\";position: absolute;border-left: 1px solid gray;box-sizing: border-box;top: 0;bottom: 0;left: 50%;z-index: -1;}#sk-container-id-3 div.sk-parallel-item {display: flex;flex-direction: column;z-index: 1;position: relative;background-color: white;}#sk-container-id-3 div.sk-parallel-item:first-child::after {align-self: flex-end;width: 50%;}#sk-container-id-3 div.sk-parallel-item:last-child::after {align-self: flex-start;width: 50%;}#sk-container-id-3 div.sk-parallel-item:only-child::after {width: 0;}#sk-container-id-3 div.sk-dashed-wrapped {border: 1px dashed gray;margin: 0 0.4em 0.5em 0.4em;box-sizing: border-box;padding-bottom: 0.4em;background-color: white;}#sk-container-id-3 div.sk-label label {font-family: monospace;font-weight: bold;display: inline-block;line-height: 1.2em;}#sk-container-id-3 div.sk-label-container {text-align: center;}#sk-container-id-3 div.sk-container {/* jupyter's `normalize.less` sets `[hidden] { display: none; }` but bootstrap.min.css set `[hidden] { display: none !important; }` so we also need the `!important` here to be able to override the default hidden behavior on the sphinx rendered scikit-learn.org. See: https://github.com/scikit-learn/scikit-learn/issues/21755 */display: inline-block !important;position: relative;}#sk-container-id-3 div.sk-text-repr-fallback {display: none;}</style><div id=\"sk-container-id-3\" class=\"sk-top-container\"><div class=\"sk-text-repr-fallback\"><pre>GridSearchCV(cv=5,\n",
       "             estimator=Pipeline(steps=[(&#x27;poly&#x27;, PolynomialFeatures()),\n",
       "                                       (&#x27;scaler&#x27;, StandardScaler()),\n",
       "                                       (&#x27;elasticnet&#x27;,\n",
       "                                        ElasticNet(max_iter=20000))]),\n",
       "             param_grid={&#x27;elasticnet__alpha&#x27;: [0.001, 0.01, 0.1, 1],\n",
       "                         &#x27;elasticnet__l1_ratio&#x27;: [0.2, 0.5, 0.8],\n",
       "                         &#x27;poly__degree&#x27;: [1, 2]},\n",
       "             verbose=1)</pre><b>In a Jupyter environment, please rerun this cell to show the HTML representation or trust the notebook. <br />On GitHub, the HTML representation is unable to render, please try loading this page with nbviewer.org.</b></div><div class=\"sk-container\" hidden><div class=\"sk-item sk-dashed-wrapped\"><div class=\"sk-label-container\"><div class=\"sk-label sk-toggleable\"><input class=\"sk-toggleable__control sk-hidden--visually\" id=\"sk-estimator-id-11\" type=\"checkbox\" ><label for=\"sk-estimator-id-11\" class=\"sk-toggleable__label sk-toggleable__label-arrow\">GridSearchCV</label><div class=\"sk-toggleable__content\"><pre>GridSearchCV(cv=5,\n",
       "             estimator=Pipeline(steps=[(&#x27;poly&#x27;, PolynomialFeatures()),\n",
       "                                       (&#x27;scaler&#x27;, StandardScaler()),\n",
       "                                       (&#x27;elasticnet&#x27;,\n",
       "                                        ElasticNet(max_iter=20000))]),\n",
       "             param_grid={&#x27;elasticnet__alpha&#x27;: [0.001, 0.01, 0.1, 1],\n",
       "                         &#x27;elasticnet__l1_ratio&#x27;: [0.2, 0.5, 0.8],\n",
       "                         &#x27;poly__degree&#x27;: [1, 2]},\n",
       "             verbose=1)</pre></div></div></div><div class=\"sk-parallel\"><div class=\"sk-parallel-item\"><div class=\"sk-item\"><div class=\"sk-label-container\"><div class=\"sk-label sk-toggleable\"><input class=\"sk-toggleable__control sk-hidden--visually\" id=\"sk-estimator-id-12\" type=\"checkbox\" ><label for=\"sk-estimator-id-12\" class=\"sk-toggleable__label sk-toggleable__label-arrow\">estimator: Pipeline</label><div class=\"sk-toggleable__content\"><pre>Pipeline(steps=[(&#x27;poly&#x27;, PolynomialFeatures()), (&#x27;scaler&#x27;, StandardScaler()),\n",
       "                (&#x27;elasticnet&#x27;, ElasticNet(max_iter=20000))])</pre></div></div></div><div class=\"sk-serial\"><div class=\"sk-item\"><div class=\"sk-serial\"><div class=\"sk-item\"><div class=\"sk-estimator sk-toggleable\"><input class=\"sk-toggleable__control sk-hidden--visually\" id=\"sk-estimator-id-13\" type=\"checkbox\" ><label for=\"sk-estimator-id-13\" class=\"sk-toggleable__label sk-toggleable__label-arrow\">PolynomialFeatures</label><div class=\"sk-toggleable__content\"><pre>PolynomialFeatures()</pre></div></div></div><div class=\"sk-item\"><div class=\"sk-estimator sk-toggleable\"><input class=\"sk-toggleable__control sk-hidden--visually\" id=\"sk-estimator-id-14\" type=\"checkbox\" ><label for=\"sk-estimator-id-14\" class=\"sk-toggleable__label sk-toggleable__label-arrow\">StandardScaler</label><div class=\"sk-toggleable__content\"><pre>StandardScaler()</pre></div></div></div><div class=\"sk-item\"><div class=\"sk-estimator sk-toggleable\"><input class=\"sk-toggleable__control sk-hidden--visually\" id=\"sk-estimator-id-15\" type=\"checkbox\" ><label for=\"sk-estimator-id-15\" class=\"sk-toggleable__label sk-toggleable__label-arrow\">ElasticNet</label><div class=\"sk-toggleable__content\"><pre>ElasticNet(max_iter=20000)</pre></div></div></div></div></div></div></div></div></div></div></div></div>"
      ],
      "text/plain": [
       "GridSearchCV(cv=5,\n",
       "             estimator=Pipeline(steps=[('poly', PolynomialFeatures()),\n",
       "                                       ('scaler', StandardScaler()),\n",
       "                                       ('elasticnet',\n",
       "                                        ElasticNet(max_iter=20000))]),\n",
       "             param_grid={'elasticnet__alpha': [0.001, 0.01, 0.1, 1],\n",
       "                         'elasticnet__l1_ratio': [0.2, 0.5, 0.8],\n",
       "                         'poly__degree': [1, 2]},\n",
       "             verbose=1)"
      ]
     },
     "execution_count": 29,
     "metadata": {},
     "output_type": "execute_result"
    }
   ],
   "source": [
    "# Configuration du pipeline avec ElasticNet\n",
    "pipeline_net = Pipeline([\n",
    "    ('poly', PolynomialFeatures()),\n",
    "    ('scaler', StandardScaler()),\n",
    "    ('elasticnet', ElasticNet(max_iter=20000))\n",
    "])\n",
    "\n",
    "# Grille de paramètres pour ElasticNet\n",
    "param_grid_net = {\n",
    "    'poly__degree': [1, 2],\n",
    "    'elasticnet__alpha': [0.001, 0.01, 0.1, 1],\n",
    "    'elasticnet__l1_ratio': [0.2, 0.5, 0.8]  # Proportion de la pénalité L1 dans le terme de régularisation\n",
    "}\n",
    "\n",
    "# Initialisation de GridSearchCV\n",
    "grid_search_net = GridSearchCV(pipeline_net, param_grid_net, cv=5, verbose=1)\n",
    "grid_search_net.fit(X_train, Y_train)"
   ]
  },
  {
   "cell_type": "code",
   "execution_count": 31,
   "id": "c3abed3c-6a80-4c5b-915a-a5b3cc8174c5",
   "metadata": {},
   "outputs": [
    {
     "name": "stdout",
     "output_type": "stream",
     "text": [
      "Best parameters found: {'elasticnet__alpha': 0.1, 'elasticnet__l1_ratio': 0.8, 'poly__degree': 2}\n",
      "Best cross-validation score: 0.08317874212130069\n"
     ]
    }
   ],
   "source": [
    "# Affichage des meilleurs paramètres et score\n",
    "print(\"Best parameters found:\", grid_search_net.best_params_)\n",
    "print(\"Best cross-validation score:\", grid_search_net.best_score_)"
   ]
  },
  {
   "cell_type": "code",
   "execution_count": 32,
   "id": "1dd5217f-dbdd-4d68-8afa-a2f59ad2b149",
   "metadata": {},
   "outputs": [
    {
     "name": "stdout",
     "output_type": "stream",
     "text": [
      "Test set MSE: 163.97120666309988\n",
      "Ecart = 12.81 min\n"
     ]
    }
   ],
   "source": [
    "# Step 7: Test set performance\n",
    "best_model_net = grid_search_net.best_estimator_\n",
    "predictions_net = best_model_net.predict(X_test)\n",
    "test_mse_net = mean_squared_error(Y_test, predictions_net)\n",
    "print(\"Test set MSE:\", test_mse_net)\n",
    "print('Ecart = {:.2f} min'.format(np.sqrt(test_mse_net)))"
   ]
  },
  {
   "cell_type": "code",
   "execution_count": 33,
   "id": "c85366d7-1901-4865-8fd3-74562b31c763",
   "metadata": {},
   "outputs": [],
   "source": [
    "# save the iris classification model as a pickle file\n",
    "model_pkl_file = f\"./results/net_model.pkl\"  \n",
    "\n",
    "with open(model_pkl_file, 'wb') as file:  \n",
    "    pickle.dump(best_model_net, file)"
   ]
  },
  {
   "cell_type": "markdown",
   "id": "c95bdcce-2751-452a-96c9-9947e70656e5",
   "metadata": {},
   "source": [
    "## RandomForest"
   ]
  },
  {
   "cell_type": "code",
   "execution_count": 34,
   "id": "b288fb2a-d159-4144-b6ce-6ad9b15d4e71",
   "metadata": {},
   "outputs": [
    {
     "name": "stdout",
     "output_type": "stream",
     "text": [
      "Fitting 5 folds for each of 9 candidates, totalling 45 fits\n"
     ]
    },
    {
     "data": {
      "text/html": [
       "<style>#sk-container-id-4 {color: black;}#sk-container-id-4 pre{padding: 0;}#sk-container-id-4 div.sk-toggleable {background-color: white;}#sk-container-id-4 label.sk-toggleable__label {cursor: pointer;display: block;width: 100%;margin-bottom: 0;padding: 0.3em;box-sizing: border-box;text-align: center;}#sk-container-id-4 label.sk-toggleable__label-arrow:before {content: \"▸\";float: left;margin-right: 0.25em;color: #696969;}#sk-container-id-4 label.sk-toggleable__label-arrow:hover:before {color: black;}#sk-container-id-4 div.sk-estimator:hover label.sk-toggleable__label-arrow:before {color: black;}#sk-container-id-4 div.sk-toggleable__content {max-height: 0;max-width: 0;overflow: hidden;text-align: left;background-color: #f0f8ff;}#sk-container-id-4 div.sk-toggleable__content pre {margin: 0.2em;color: black;border-radius: 0.25em;background-color: #f0f8ff;}#sk-container-id-4 input.sk-toggleable__control:checked~div.sk-toggleable__content {max-height: 200px;max-width: 100%;overflow: auto;}#sk-container-id-4 input.sk-toggleable__control:checked~label.sk-toggleable__label-arrow:before {content: \"▾\";}#sk-container-id-4 div.sk-estimator input.sk-toggleable__control:checked~label.sk-toggleable__label {background-color: #d4ebff;}#sk-container-id-4 div.sk-label input.sk-toggleable__control:checked~label.sk-toggleable__label {background-color: #d4ebff;}#sk-container-id-4 input.sk-hidden--visually {border: 0;clip: rect(1px 1px 1px 1px);clip: rect(1px, 1px, 1px, 1px);height: 1px;margin: -1px;overflow: hidden;padding: 0;position: absolute;width: 1px;}#sk-container-id-4 div.sk-estimator {font-family: monospace;background-color: #f0f8ff;border: 1px dotted black;border-radius: 0.25em;box-sizing: border-box;margin-bottom: 0.5em;}#sk-container-id-4 div.sk-estimator:hover {background-color: #d4ebff;}#sk-container-id-4 div.sk-parallel-item::after {content: \"\";width: 100%;border-bottom: 1px solid gray;flex-grow: 1;}#sk-container-id-4 div.sk-label:hover label.sk-toggleable__label {background-color: #d4ebff;}#sk-container-id-4 div.sk-serial::before {content: \"\";position: absolute;border-left: 1px solid gray;box-sizing: border-box;top: 0;bottom: 0;left: 50%;z-index: 0;}#sk-container-id-4 div.sk-serial {display: flex;flex-direction: column;align-items: center;background-color: white;padding-right: 0.2em;padding-left: 0.2em;position: relative;}#sk-container-id-4 div.sk-item {position: relative;z-index: 1;}#sk-container-id-4 div.sk-parallel {display: flex;align-items: stretch;justify-content: center;background-color: white;position: relative;}#sk-container-id-4 div.sk-item::before, #sk-container-id-4 div.sk-parallel-item::before {content: \"\";position: absolute;border-left: 1px solid gray;box-sizing: border-box;top: 0;bottom: 0;left: 50%;z-index: -1;}#sk-container-id-4 div.sk-parallel-item {display: flex;flex-direction: column;z-index: 1;position: relative;background-color: white;}#sk-container-id-4 div.sk-parallel-item:first-child::after {align-self: flex-end;width: 50%;}#sk-container-id-4 div.sk-parallel-item:last-child::after {align-self: flex-start;width: 50%;}#sk-container-id-4 div.sk-parallel-item:only-child::after {width: 0;}#sk-container-id-4 div.sk-dashed-wrapped {border: 1px dashed gray;margin: 0 0.4em 0.5em 0.4em;box-sizing: border-box;padding-bottom: 0.4em;background-color: white;}#sk-container-id-4 div.sk-label label {font-family: monospace;font-weight: bold;display: inline-block;line-height: 1.2em;}#sk-container-id-4 div.sk-label-container {text-align: center;}#sk-container-id-4 div.sk-container {/* jupyter's `normalize.less` sets `[hidden] { display: none; }` but bootstrap.min.css set `[hidden] { display: none !important; }` so we also need the `!important` here to be able to override the default hidden behavior on the sphinx rendered scikit-learn.org. See: https://github.com/scikit-learn/scikit-learn/issues/21755 */display: inline-block !important;position: relative;}#sk-container-id-4 div.sk-text-repr-fallback {display: none;}</style><div id=\"sk-container-id-4\" class=\"sk-top-container\"><div class=\"sk-text-repr-fallback\"><pre>GridSearchCV(cv=5,\n",
       "             estimator=Pipeline(steps=[(&#x27;scaler&#x27;, StandardScaler()),\n",
       "                                       (&#x27;rf&#x27;, RandomForestRegressor())]),\n",
       "             param_grid={&#x27;rf__max_depth&#x27;: [10, 20, 30],\n",
       "                         &#x27;rf__n_estimators&#x27;: [100, 200, 300]},\n",
       "             verbose=1)</pre><b>In a Jupyter environment, please rerun this cell to show the HTML representation or trust the notebook. <br />On GitHub, the HTML representation is unable to render, please try loading this page with nbviewer.org.</b></div><div class=\"sk-container\" hidden><div class=\"sk-item sk-dashed-wrapped\"><div class=\"sk-label-container\"><div class=\"sk-label sk-toggleable\"><input class=\"sk-toggleable__control sk-hidden--visually\" id=\"sk-estimator-id-16\" type=\"checkbox\" ><label for=\"sk-estimator-id-16\" class=\"sk-toggleable__label sk-toggleable__label-arrow\">GridSearchCV</label><div class=\"sk-toggleable__content\"><pre>GridSearchCV(cv=5,\n",
       "             estimator=Pipeline(steps=[(&#x27;scaler&#x27;, StandardScaler()),\n",
       "                                       (&#x27;rf&#x27;, RandomForestRegressor())]),\n",
       "             param_grid={&#x27;rf__max_depth&#x27;: [10, 20, 30],\n",
       "                         &#x27;rf__n_estimators&#x27;: [100, 200, 300]},\n",
       "             verbose=1)</pre></div></div></div><div class=\"sk-parallel\"><div class=\"sk-parallel-item\"><div class=\"sk-item\"><div class=\"sk-label-container\"><div class=\"sk-label sk-toggleable\"><input class=\"sk-toggleable__control sk-hidden--visually\" id=\"sk-estimator-id-17\" type=\"checkbox\" ><label for=\"sk-estimator-id-17\" class=\"sk-toggleable__label sk-toggleable__label-arrow\">estimator: Pipeline</label><div class=\"sk-toggleable__content\"><pre>Pipeline(steps=[(&#x27;scaler&#x27;, StandardScaler()), (&#x27;rf&#x27;, RandomForestRegressor())])</pre></div></div></div><div class=\"sk-serial\"><div class=\"sk-item\"><div class=\"sk-serial\"><div class=\"sk-item\"><div class=\"sk-estimator sk-toggleable\"><input class=\"sk-toggleable__control sk-hidden--visually\" id=\"sk-estimator-id-18\" type=\"checkbox\" ><label for=\"sk-estimator-id-18\" class=\"sk-toggleable__label sk-toggleable__label-arrow\">StandardScaler</label><div class=\"sk-toggleable__content\"><pre>StandardScaler()</pre></div></div></div><div class=\"sk-item\"><div class=\"sk-estimator sk-toggleable\"><input class=\"sk-toggleable__control sk-hidden--visually\" id=\"sk-estimator-id-19\" type=\"checkbox\" ><label for=\"sk-estimator-id-19\" class=\"sk-toggleable__label sk-toggleable__label-arrow\">RandomForestRegressor</label><div class=\"sk-toggleable__content\"><pre>RandomForestRegressor()</pre></div></div></div></div></div></div></div></div></div></div></div></div>"
      ],
      "text/plain": [
       "GridSearchCV(cv=5,\n",
       "             estimator=Pipeline(steps=[('scaler', StandardScaler()),\n",
       "                                       ('rf', RandomForestRegressor())]),\n",
       "             param_grid={'rf__max_depth': [10, 20, 30],\n",
       "                         'rf__n_estimators': [100, 200, 300]},\n",
       "             verbose=1)"
      ]
     },
     "execution_count": 34,
     "metadata": {},
     "output_type": "execute_result"
    }
   ],
   "source": [
    "# Configuration du pipeline sans PolynomialFeatures pour RandomForest\n",
    "Y_train_forest = Y_train.squeeze() \n",
    "pipeline_forest = Pipeline([\n",
    "    ('scaler', StandardScaler()),\n",
    "    ('rf', RandomForestRegressor())\n",
    "])\n",
    "\n",
    "# Grille de paramètres pour RandomForest\n",
    "param_grid_forest = {\n",
    "    'rf__n_estimators': [100, 200, 300],  # Nombre d'arbres\n",
    "    'rf__max_depth': [10, 20, 30]  # Profondeur maximale des arbres\n",
    "}\n",
    "\n",
    "# Initialisation de GridSearchCV\n",
    "grid_search_forest = GridSearchCV(pipeline_forest, param_grid_forest, cv=5, verbose=1)\n",
    "grid_search_forest.fit(X_train, Y_train_forest)"
   ]
  },
  {
   "cell_type": "code",
   "execution_count": 35,
   "id": "9f87b8a7-9a98-47e9-9225-ce1cbd46d55b",
   "metadata": {},
   "outputs": [
    {
     "name": "stdout",
     "output_type": "stream",
     "text": [
      "Best parameters found: {'rf__max_depth': 10, 'rf__n_estimators': 300}\n",
      "Best cross-validation score: 0.09558551063083334\n"
     ]
    }
   ],
   "source": [
    "# Affichage des meilleurs paramètres et score\n",
    "print(\"Best parameters found:\", grid_search_forest.best_params_)\n",
    "print(\"Best cross-validation score:\", grid_search_forest.best_score_)"
   ]
  },
  {
   "cell_type": "code",
   "execution_count": 36,
   "id": "2fc372e2-4240-4cbe-9636-afd3b4d12df3",
   "metadata": {},
   "outputs": [
    {
     "name": "stdout",
     "output_type": "stream",
     "text": [
      "Test set MSE: 162.16544050720663\n",
      "Ecart = 12.73 min\n"
     ]
    }
   ],
   "source": [
    "# Step 7: Test set performance\n",
    "best_model_forest = grid_search_forest.best_estimator_\n",
    "predictions_forest = best_model_forest.predict(X_test)\n",
    "test_mse_forest = mean_squared_error(Y_test, predictions_forest)\n",
    "print(\"Test set MSE:\", test_mse_forest)\n",
    "print('Ecart = {:.2f} min'.format(np.sqrt(test_mse_forest)))"
   ]
  },
  {
   "cell_type": "code",
   "execution_count": 37,
   "id": "79cdaee0-2804-45a4-9004-5b4dbd2930ab",
   "metadata": {},
   "outputs": [],
   "source": [
    "# save the iris classification model as a pickle file\n",
    "model_pkl_file = f\"./results/forest_model.pkl\"  \n",
    "\n",
    "with open(model_pkl_file, 'wb') as file:  \n",
    "    pickle.dump(best_model_forest, file)"
   ]
  },
  {
   "cell_type": "markdown",
   "id": "1a3afa0b-7902-4b65-a9ca-a02c706b502f",
   "metadata": {},
   "source": [
    "### Tester les modèles sur la dernière semaine de janvier"
   ]
  },
  {
   "cell_type": "code",
   "execution_count": 15,
   "id": "07216143-47ea-4cd6-b13a-f21ea32db2e8",
   "metadata": {},
   "outputs": [
    {
     "data": {
      "text/html": [
       "<div>\n",
       "<style scoped>\n",
       "    .dataframe tbody tr th:only-of-type {\n",
       "        vertical-align: middle;\n",
       "    }\n",
       "\n",
       "    .dataframe tbody tr th {\n",
       "        vertical-align: top;\n",
       "    }\n",
       "\n",
       "    .dataframe thead th {\n",
       "        text-align: right;\n",
       "    }\n",
       "</style>\n",
       "<table border=\"1\" class=\"dataframe\">\n",
       "  <thead>\n",
       "    <tr style=\"text-align: right;\">\n",
       "      <th></th>\n",
       "      <th>heure_depart</th>\n",
       "      <th>heure_arrivee</th>\n",
       "      <th>ORIGIN_AIRPORT</th>\n",
       "      <th>weekday</th>\n",
       "      <th>DEPARTURE_DELAY</th>\n",
       "    </tr>\n",
       "  </thead>\n",
       "  <tbody>\n",
       "    <tr>\n",
       "      <th>0</th>\n",
       "      <td>60</td>\n",
       "      <td>31740</td>\n",
       "      <td>LAX</td>\n",
       "      <td>6</td>\n",
       "      <td>-3.000000</td>\n",
       "    </tr>\n",
       "    <tr>\n",
       "      <th>1</th>\n",
       "      <td>300</td>\n",
       "      <td>5880</td>\n",
       "      <td>CLT</td>\n",
       "      <td>0</td>\n",
       "      <td>-1.000000</td>\n",
       "    </tr>\n",
       "    <tr>\n",
       "      <th>2</th>\n",
       "      <td>300</td>\n",
       "      <td>5880</td>\n",
       "      <td>CLT</td>\n",
       "      <td>2</td>\n",
       "      <td>-5.000000</td>\n",
       "    </tr>\n",
       "    <tr>\n",
       "      <th>3</th>\n",
       "      <td>300</td>\n",
       "      <td>5880</td>\n",
       "      <td>CLT</td>\n",
       "      <td>5</td>\n",
       "      <td>18.000000</td>\n",
       "    </tr>\n",
       "    <tr>\n",
       "      <th>4</th>\n",
       "      <td>300</td>\n",
       "      <td>5880</td>\n",
       "      <td>CLT</td>\n",
       "      <td>6</td>\n",
       "      <td>-9.000000</td>\n",
       "    </tr>\n",
       "    <tr>\n",
       "      <th>...</th>\n",
       "      <td>...</td>\n",
       "      <td>...</td>\n",
       "      <td>...</td>\n",
       "      <td>...</td>\n",
       "      <td>...</td>\n",
       "    </tr>\n",
       "    <tr>\n",
       "      <th>122667</th>\n",
       "      <td>86340</td>\n",
       "      <td>30900</td>\n",
       "      <td>SFO</td>\n",
       "      <td>2</td>\n",
       "      <td>-0.076923</td>\n",
       "    </tr>\n",
       "    <tr>\n",
       "      <th>122668</th>\n",
       "      <td>86340</td>\n",
       "      <td>30900</td>\n",
       "      <td>SFO</td>\n",
       "      <td>3</td>\n",
       "      <td>8.214286</td>\n",
       "    </tr>\n",
       "    <tr>\n",
       "      <th>122669</th>\n",
       "      <td>86340</td>\n",
       "      <td>30900</td>\n",
       "      <td>SFO</td>\n",
       "      <td>4</td>\n",
       "      <td>4.357143</td>\n",
       "    </tr>\n",
       "    <tr>\n",
       "      <th>122670</th>\n",
       "      <td>86340</td>\n",
       "      <td>30900</td>\n",
       "      <td>SFO</td>\n",
       "      <td>5</td>\n",
       "      <td>-0.785714</td>\n",
       "    </tr>\n",
       "    <tr>\n",
       "      <th>122671</th>\n",
       "      <td>86340</td>\n",
       "      <td>30900</td>\n",
       "      <td>SFO</td>\n",
       "      <td>6</td>\n",
       "      <td>4.285714</td>\n",
       "    </tr>\n",
       "  </tbody>\n",
       "</table>\n",
       "<p>122672 rows × 5 columns</p>\n",
       "</div>"
      ],
      "text/plain": [
       "        heure_depart  heure_arrivee ORIGIN_AIRPORT  weekday  DEPARTURE_DELAY\n",
       "0                 60          31740            LAX        6        -3.000000\n",
       "1                300           5880            CLT        0        -1.000000\n",
       "2                300           5880            CLT        2        -5.000000\n",
       "3                300           5880            CLT        5        18.000000\n",
       "4                300           5880            CLT        6        -9.000000\n",
       "...              ...            ...            ...      ...              ...\n",
       "122667         86340          30900            SFO        2        -0.076923\n",
       "122668         86340          30900            SFO        3         8.214286\n",
       "122669         86340          30900            SFO        4         4.357143\n",
       "122670         86340          30900            SFO        5        -0.785714\n",
       "122671         86340          30900            SFO        6         4.285714\n",
       "\n",
       "[122672 rows x 5 columns]"
      ]
     },
     "execution_count": 15,
     "metadata": {},
     "output_type": "execute_result"
    }
   ],
   "source": [
    "carrier = \"AA\"\n",
    "df_model_test = create_df(df_test, carrier)    \n",
    "df_model_test"
   ]
  },
  {
   "cell_type": "markdown",
   "id": "00aef326-d8f1-43f8-a2c2-fc84bf911ab5",
   "metadata": {},
   "source": [
    "#### Transformer les codes des aéroports en matrice encodés one-hot + Merge avec d'autres colonnes numériques du dataframe"
   ]
  },
  {
   "cell_type": "code",
   "execution_count": 21,
   "id": "fce9f987-2c82-4c1d-912c-1e5a47a8496e",
   "metadata": {},
   "outputs": [],
   "source": [
    "label_conversion = dict()\n",
    "for s in label_airports:\n",
    "    label_conversion[s[1]] = s[0]\n",
    "\n",
    "df_model_test['ORIGIN_AIRPORT'].replace(label_conversion, inplace = True)\n",
    "\n",
    "for index, label in label_airports:\n",
    "    temp = df_model_test['ORIGIN_AIRPORT'] == index\n",
    "    temp = temp.apply(lambda x:1.0 if x else 0.0)\n",
    "    if index == 0:\n",
    "        matrix = np.array(temp)\n",
    "    else:\n",
    "        matrix = np.vstack((matrix, temp))\n",
    "matrix = matrix.T\n",
    "\n",
    "b = np.array(df_model_test[['heure_depart', 'heure_arrivee']])\n",
    "X_test = np.hstack((matrix, b))\n",
    "Y_test = np.array(df_model_test['DEPARTURE_DELAY'])\n",
    "Y_test = Y_test.reshape(len(Y_test), 1)"
   ]
  },
  {
   "cell_type": "code",
   "execution_count": 53,
   "id": "019945a4-b19d-44cd-b0a6-0c9d2b26b6a5",
   "metadata": {},
   "outputs": [],
   "source": [
    "del df_model_test"
   ]
  },
  {
   "cell_type": "code",
   "execution_count": 5,
   "id": "2563ca04-518d-44ea-a434-99c8ff62119b",
   "metadata": {},
   "outputs": [],
   "source": [
    "ridge_model = pickle.load(open('results/ridge_model.pkl', 'rb'))\n",
    "lasso_model = pickle.load(open('results/lasso_model.pkl', 'rb'))\n",
    "net_model = pickle.load(open('results/net_model.pkl', 'rb'))\n",
    "forest_model = pickle.load(open('results/forest_model.pkl', 'rb'))"
   ]
  },
  {
   "cell_type": "markdown",
   "id": "425ed1ea-1afe-4cd4-a457-7d48350c84c6",
   "metadata": {},
   "source": [
    "## Ridge"
   ]
  },
  {
   "cell_type": "code",
   "execution_count": 23,
   "id": "345c6686-8c58-4969-957b-64caea1913f2",
   "metadata": {},
   "outputs": [
    {
     "name": "stdout",
     "output_type": "stream",
     "text": [
      "Test set MSE: 68.9144186245605\n",
      "Ecart = 8.30 min\n"
     ]
    }
   ],
   "source": [
    "# best_model_ridge = grid_search_ridge.best_estimator_\n",
    "predictions_ridge = ridge_model.predict(X_test)\n",
    "test_mse_ridge = mean_squared_error(Y_test, predictions_ridge)\n",
    "print(\"Test set MSE:\", test_mse_ridge)\n",
    "print('Ecart = {:.2f} min'.format(np.sqrt(test_mse_ridge)))"
   ]
  },
  {
   "cell_type": "code",
   "execution_count": 24,
   "id": "3bc90e4e-a1db-4ed5-946e-03abbdf3969f",
   "metadata": {},
   "outputs": [
    {
     "name": "stdout",
     "output_type": "stream",
     "text": [
      "ecarts > 15 minutes: 4.952%\n"
     ]
    }
   ],
   "source": [
    "icount = 0\n",
    "for i, val in enumerate(Y_test):\n",
    "    if abs(val-predictions_ridge[i]) > 15: icount += 1\n",
    "print(\"ecarts > 15 minutes: {}%\".format(round((icount / len(predictions_ridge))*100,3)))"
   ]
  },
  {
   "cell_type": "markdown",
   "id": "73aa855e-7bff-4a0a-a8f9-b95dc9a3c25e",
   "metadata": {},
   "source": [
    "## Lasso"
   ]
  },
  {
   "cell_type": "code",
   "execution_count": 26,
   "id": "56938afe-baed-4c7f-82d2-cfcb4227fb1c",
   "metadata": {},
   "outputs": [
    {
     "name": "stdout",
     "output_type": "stream",
     "text": [
      "Test set MSE: 66.30482919277203\n",
      "Ecart = 8.14 min\n"
     ]
    }
   ],
   "source": [
    "# best_model_lasso = grid_search_lasso.best_estimator_\n",
    "predictions_lasso = lasso_model.predict(X_test)\n",
    "test_mse_lasso = mean_squared_error(Y_test, predictions_lasso)\n",
    "print(\"Test set MSE:\", test_mse_lasso)\n",
    "print('Ecart = {:.2f} min'.format(np.sqrt(test_mse_lasso)))"
   ]
  },
  {
   "cell_type": "code",
   "execution_count": 27,
   "id": "ba92a31c-680f-4bdf-938f-238e494be327",
   "metadata": {},
   "outputs": [
    {
     "name": "stdout",
     "output_type": "stream",
     "text": [
      "ecarts > 15 minutes: 4.695%\n"
     ]
    }
   ],
   "source": [
    "icount = 0\n",
    "for i, val in enumerate(Y_test):\n",
    "    if abs(val-predictions_lasso[i]) > 15: icount += 1\n",
    "print(\"ecarts > 15 minutes: {}%\".format(round((icount / len(predictions_lasso))*100,3)))"
   ]
  },
  {
   "cell_type": "markdown",
   "id": "805673f6-298d-4ef2-8152-9722b74f92e2",
   "metadata": {},
   "source": [
    "## Elastic Net"
   ]
  },
  {
   "cell_type": "code",
   "execution_count": 28,
   "id": "b81ab4dc-5e24-4cb9-bec6-9d6bad8dd475",
   "metadata": {},
   "outputs": [
    {
     "name": "stdout",
     "output_type": "stream",
     "text": [
      "Test set MSE: 66.45032264012953\n",
      "Ecart = 8.15 min\n"
     ]
    }
   ],
   "source": [
    "# best_model_net = grid_search_net.best_estimator_\n",
    "predictions_net = net_model.predict(X_test)\n",
    "test_mse_net = mean_squared_error(Y_test, predictions_net)\n",
    "print(\"Test set MSE:\", test_mse_net)\n",
    "print('Ecart = {:.2f} min'.format(np.sqrt(test_mse_net)))"
   ]
  },
  {
   "cell_type": "code",
   "execution_count": 29,
   "id": "c6b26571-a66c-493f-83e1-6f19fd59304a",
   "metadata": {},
   "outputs": [
    {
     "name": "stdout",
     "output_type": "stream",
     "text": [
      "ecarts > 15 minutes: 4.742%\n"
     ]
    }
   ],
   "source": [
    "icount = 0\n",
    "for i, val in enumerate(Y_test):\n",
    "    if abs(val-predictions_net[i]) > 15: icount += 1\n",
    "print(\"ecarts > 15 minutes: {}%\".format(round((icount / len(predictions_net))*100,3)))"
   ]
  },
  {
   "cell_type": "markdown",
   "id": "a19de8f2-ccd8-4140-babb-e6d2adb33247",
   "metadata": {},
   "source": [
    "## RandomForest"
   ]
  },
  {
   "cell_type": "code",
   "execution_count": 30,
   "id": "9b7f68e6-997b-4cb0-a090-80db97d97b01",
   "metadata": {},
   "outputs": [
    {
     "name": "stdout",
     "output_type": "stream",
     "text": [
      "Test set MSE: 69.18367851024573\n",
      "Ecart = 8.32 min\n"
     ]
    }
   ],
   "source": [
    "# best_model_forest = grid_search_forest.best_estimator_\n",
    "predictions_forest = forest_model.predict(X_test)\n",
    "test_mse_forest = mean_squared_error(Y_test, predictions_forest)\n",
    "print(\"Test set MSE:\", test_mse_forest)\n",
    "print('Ecart = {:.2f} min'.format(np.sqrt(test_mse_forest)))"
   ]
  },
  {
   "cell_type": "code",
   "execution_count": 31,
   "id": "5b3665d3-a6be-4762-bfdc-9fdf5e8ea920",
   "metadata": {},
   "outputs": [
    {
     "name": "stdout",
     "output_type": "stream",
     "text": [
      "ecarts > 15 minutes: 5.591%\n"
     ]
    }
   ],
   "source": [
    "icount = 0\n",
    "for i, val in enumerate(Y_test):\n",
    "    if abs(val-predictions_forest[i]) > 15: icount += 1\n",
    "print(\"ecarts > 15 minutes: {}%\".format(round((icount / len(predictions_forest))*100,3)))"
   ]
  },
  {
   "cell_type": "markdown",
   "id": "2e034db5-8e97-4ff5-a445-0b23fe45b6ac",
   "metadata": {},
   "source": [
    "## Test de significativité"
   ]
  },
  {
   "cell_type": "code",
   "execution_count": 32,
   "id": "6885827f-4d93-4c71-ac11-148edd7e8cf2",
   "metadata": {},
   "outputs": [],
   "source": [
    "def test_mannnwhitneyu(metric_model1, metric_model2, tested=\"métriques\"):\n",
    "    # Effectuer le test de Mann-Whitney\n",
    "    stat, p_value = mannwhitneyu(metric_model1, metric_model2)\n",
    "\n",
    "    print(\"Statistique U:\", stat, \"Valeur p:\", p_value)\n",
    "    if p_value < 0.01:\n",
    "        print(f\"Les différences de {tested} sont statistiquement significatives.\")\n",
    "    else:\n",
    "        print(f\"Aucune différence significative de {tested} détectée.\")"
   ]
  },
  {
   "cell_type": "code",
   "execution_count": 36,
   "id": "782a8376-0f3a-444b-89b9-b5c8987919c4",
   "metadata": {},
   "outputs": [
    {
     "name": "stdout",
     "output_type": "stream",
     "text": [
      "Statistique U: 0.0 Valeur p: 1.0\n",
      "Aucune différence significative de MSE détectée.\n",
      "Statistique U: 1.0 Valeur p: 1.0\n",
      "Aucune différence significative de MSE détectée.\n",
      "Statistique U: 1.0 Valeur p: 1.0\n",
      "Aucune différence significative de MSE détectée.\n"
     ]
    }
   ],
   "source": [
    "test_mannnwhitneyu(test_mse_ridge, test_mse_forest, tested=\"MSE\")\n",
    "test_mannnwhitneyu(test_mse_ridge, test_mse_lasso, tested=\"MSE\")\n",
    "test_mannnwhitneyu(test_mse_ridge, test_mse_net, tested=\"MSE\")"
   ]
  },
  {
   "cell_type": "code",
   "execution_count": 37,
   "id": "abfc70fc-805f-43f2-98f1-e3d4a93c2625",
   "metadata": {},
   "outputs": [
    {
     "name": "stdout",
     "output_type": "stream",
     "text": [
      "Statistique U: 0.0 Valeur p: 1.0\n",
      "Aucune différence significative de RMSE détectée.\n",
      "Statistique U: 1.0 Valeur p: 1.0\n",
      "Aucune différence significative de RMSE détectée.\n",
      "Statistique U: 1.0 Valeur p: 1.0\n",
      "Aucune différence significative de RMSE détectée.\n"
     ]
    }
   ],
   "source": [
    "test_mannnwhitneyu(np.sqrt(test_mse_ridge), np.sqrt(test_mse_forest), tested=\"RMSE\")\n",
    "test_mannnwhitneyu(np.sqrt(test_mse_ridge), np.sqrt(test_mse_lasso), tested=\"RMSE\")\n",
    "test_mannnwhitneyu(np.sqrt(test_mse_ridge), np.sqrt(test_mse_net), tested=\"RMSE\")"
   ]
  },
  {
   "cell_type": "code",
   "execution_count": 38,
   "id": "3d68fdd8-3f74-40a3-b326-b2b011b7308f",
   "metadata": {},
   "outputs": [
    {
     "name": "stdout",
     "output_type": "stream",
     "text": [
      "Statistique U: 0.0 Valeur p: 1.0\n",
      "Aucune différence significative de MSE détectée.\n",
      "Statistique U: 1.0 Valeur p: 1.0\n",
      "Aucune différence significative de MSE détectée.\n",
      "Statistique U: 0.0 Valeur p: 1.0\n",
      "Aucune différence significative de MSE détectée.\n"
     ]
    }
   ],
   "source": [
    "test_mannnwhitneyu(test_mse_lasso, test_mse_forest, tested=\"MSE\")\n",
    "test_mannnwhitneyu(test_mse_ridge, test_mse_lasso, tested=\"MSE\")\n",
    "test_mannnwhitneyu(test_mse_lasso, test_mse_net, tested=\"MSE\")"
   ]
  },
  {
   "cell_type": "code",
   "execution_count": 39,
   "id": "d3b03289-c333-4b6b-9439-a3e7389fa1b3",
   "metadata": {},
   "outputs": [
    {
     "name": "stdout",
     "output_type": "stream",
     "text": [
      "Statistique U: 0.0 Valeur p: 1.0\n",
      "Aucune différence significative de RMSE détectée.\n",
      "Statistique U: 0.0 Valeur p: 1.0\n",
      "Aucune différence significative de RMSE détectée.\n"
     ]
    }
   ],
   "source": [
    "test_mannnwhitneyu(np.sqrt(test_mse_lasso), np.sqrt(test_mse_forest), tested=\"RMSE\")\n",
    "test_mannnwhitneyu(np.sqrt(test_mse_lasso), np.sqrt(test_mse_net), tested=\"RMSE\")"
   ]
  },
  {
   "cell_type": "code",
   "execution_count": 40,
   "id": "01503cd5-030f-4c00-a68d-d17b0b992d87",
   "metadata": {},
   "outputs": [
    {
     "name": "stdout",
     "output_type": "stream",
     "text": [
      "Statistique U: 0.0 Valeur p: 1.0\n",
      "Aucune différence significative de MSE détectée.\n"
     ]
    }
   ],
   "source": [
    "test_mannnwhitneyu(test_mse_net, test_mse_forest, tested=\"MSE\")"
   ]
  },
  {
   "cell_type": "code",
   "execution_count": 41,
   "id": "69dfe13e-a31a-4936-9acd-6fc70527c332",
   "metadata": {},
   "outputs": [
    {
     "name": "stdout",
     "output_type": "stream",
     "text": [
      "Statistique U: 0.0 Valeur p: 1.0\n",
      "Aucune différence significative de RMSE détectée.\n"
     ]
    }
   ],
   "source": [
    "test_mannnwhitneyu(np.sqrt(test_mse_net), np.sqrt(test_mse_forest), tested=\"RMSE\")"
   ]
  }
 ],
 "metadata": {
  "kernelspec": {
   "display_name": "Python 3 (ipykernel)",
   "language": "python",
   "name": "python3"
  },
  "language_info": {
   "codemirror_mode": {
    "name": "ipython",
    "version": 3
   },
   "file_extension": ".py",
   "mimetype": "text/x-python",
   "name": "python",
   "nbconvert_exporter": "python",
   "pygments_lexer": "ipython3",
   "version": "3.11.8"
  }
 },
 "nbformat": 4,
 "nbformat_minor": 5
}
