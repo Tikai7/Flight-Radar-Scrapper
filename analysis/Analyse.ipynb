{
 "cells": [
  {
   "cell_type": "code",
   "execution_count": null,
   "id": "343d8969-795e-473f-a00e-13c0b82e11a0",
   "metadata": {},
   "outputs": [],
   "source": [
    "import pandas as pd\n",
    "import seaborn as sns\n",
    "import matplotlib.pyplot as plt"
   ]
  },
  {
   "cell_type": "code",
   "execution_count": null,
   "id": "978a6446-2a6d-4177-b4c8-8d87f8fa9890",
   "metadata": {},
   "outputs": [],
   "source": [
    "df_arrivals = pd.read_csv(f'./data/df_arrivals.csv',sep = \",\")\n",
    "df_departures = pd.read_csv(f'./data/df_departures.csv',sep = \",\")"
   ]
  },
  {
   "cell_type": "markdown",
   "id": "d2180113-1cf3-40de-8259-06134cdc5af6",
   "metadata": {},
   "source": [
    "# Compagnies aériennes"
   ]
  },
  {
   "cell_type": "markdown",
   "id": "e508d233-0bab-48a6-bdc8-2c89c78559cd",
   "metadata": {},
   "source": [
    "## Comparaison des aéroports intra et inter"
   ]
  },
  {
   "cell_type": "markdown",
   "id": "b88bcb44-bac5-466f-b244-e27661c78438",
   "metadata": {},
   "source": [
    "### Comparaison des vols nationaux et internationaux"
   ]
  },
  {
   "cell_type": "code",
   "execution_count": null,
   "id": "ee7245fd-a4d5-4ce7-8e62-2a84af7dfe03",
   "metadata": {},
   "outputs": [],
   "source": [
    "Airline_count = len(df_arrivals['Airline Name'])\n",
    "Airline_nan_count = df_arrivals['Airline Name'].isna().sum()\n",
    "print(Airline_count)\n",
    "print(77567 - Airline_nan_count)"
   ]
  },
  {
   "cell_type": "code",
   "execution_count": null,
   "id": "7bf09a04-8ff7-4ed6-99ba-56eceebf16d4",
   "metadata": {},
   "outputs": [],
   "source": [
    "df_arrivals.head(5)"
   ]
  },
  {
   "cell_type": "code",
   "execution_count": null,
   "id": "c7d4fc7e-232b-4f58-9d18-986386b19232",
   "metadata": {},
   "outputs": [],
   "source": [
    "# Annoter les vols internationaux et nationaux pour df_arrivals\n",
    "flight_type = []\n",
    "for row_arr in df_departures.iterrows():\n",
    "    if row_arr[1][\"Country\"] == row_arr[1][\"Destination Country\"]:\n",
    "        flight_type.append(\"National\")\n",
    "    elif row_arr[1][\"Country\"] != row_arr[1][\"Destination Country\"]:\n",
    "        flight_type.append(\"International\")\n",
    "\n",
    "df_departures[\"Flight Type\"] = flight_type"
   ]
  },
  {
   "cell_type": "code",
   "execution_count": null,
   "id": "bda35a94-d229-493e-9166-2d7efb07ed01",
   "metadata": {},
   "outputs": [],
   "source": [
    "# Annoter les vols internationaux et nationaux pour df_arrivals\n",
    "flight_type = []\n",
    "for row_arr in df_arrivals.iterrows():\n",
    "    if row_arr[1][\"Country\"] == row_arr[1][\"Departure Country\"]:\n",
    "        flight_type.append(\"National\")\n",
    "    elif row_arr[1][\"Country\"] != row_arr[1][\"Departure Country\"]:\n",
    "        flight_type.append(\"International\")\n",
    "\n",
    "df_arrivals[\"Flight Type\"] = flight_type"
   ]
  },
  {
   "cell_type": "code",
   "execution_count": null,
   "id": "2d30ee75-02ec-4ba9-ad2f-0cef33b6d3f0",
   "metadata": {},
   "outputs": [],
   "source": [
    "df_arrivals"
   ]
  },
  {
   "cell_type": "code",
   "execution_count": null,
   "id": "c5f97aac-2b0c-4094-b603-38168f162df8",
   "metadata": {},
   "outputs": [],
   "source": [
    "# Créer le graphique avec Seaborn\n",
    "plt.figure(figsize=(12, 6))\n",
    "sns.countplot(data=df_arrivals, x='Flight Type', palette='coolwarm')\n",
    "plt.xlabel('Flight Category')\n",
    "plt.ylabel('Number of Flights')\n",
    "plt.title('Distribution of National and International Flights')\n",
    "plt.xticks(rotation=45)\n",
    "plt.tight_layout()\n",
    "plt.show()"
   ]
  },
  {
   "cell_type": "markdown",
   "id": "2e712464-6963-490d-b16e-a1c9abd58aed",
   "metadata": {},
   "source": [
    "### Pays et aéroport avec le plus de vols nationaux et celui avec le plus de vols internationaux"
   ]
  },
  {
   "cell_type": "code",
   "execution_count": null,
   "id": "86c4fe36-d2e5-4409-8f67-186b50622e71",
   "metadata": {},
   "outputs": [],
   "source": [
    "#Couple pays et aéroport qui reviennent le plus souvent\n",
    "# Grouper les données par aéroport et par pays, puis compter les vols nationaux et internationaux\n",
    "airport_counts = df_arrivals.groupby(['Airport', 'Country', 'Flight Type']).size().reset_index(name='Flight Count')\n",
    "\n",
    "# Identifier l'aéroport et le pays avec le plus grand nombre de vols internationaux et nationaux\n",
    "airport_most_international = airport_counts[airport_counts['Flight Type'] == 'International'].max()['Airport']\n",
    "country_most_international = airport_counts[airport_counts['Flight Type'] == 'International'].max()['Country']\n",
    "airport_most_national = airport_counts[airport_counts['Flight Type'] == 'National'].max()['Airport']\n",
    "country_most_national = airport_counts[airport_counts['Flight Type'] == 'National'].max()['Country']\n",
    "\n",
    "print(f\"Airport with most international flights: {airport_most_international},{country_most_international}\")\n",
    "print(f\"Airport with most international flights: {airport_most_national},{country_most_national}\")"
   ]
  },
  {
   "cell_type": "markdown",
   "id": "6263e5dc-ab35-4466-9ff7-df15f67b9359",
   "metadata": {},
   "source": [
    "### Top 5 destination les plus convoitées (qui revient le plus)"
   ]
  },
  {
   "cell_type": "code",
   "execution_count": null,
   "id": "3daad770-5bef-4432-a6aa-bb53440b504b",
   "metadata": {},
   "outputs": [],
   "source": [
    "df_departures.head(5)"
   ]
  },
  {
   "cell_type": "code",
   "execution_count": null,
   "id": "9ca61c3f-2f1e-4be6-8f67-553435da0958",
   "metadata": {},
   "outputs": [],
   "source": [
    "# Grouper les données par destination de vol et compter les occurrences\n",
    "destination_counts = df_departures['Destination Country'].value_counts()\n",
    "\n",
    "# Sélectionner les cinq premiers\n",
    "top_5_destination = destination_counts.head(5)\n",
    "top_5_destination.index.name = None\n",
    "# Créer un DataFrame vide avec les destinations comme colonnes\n",
    "top_countries = pd.DataFrame(columns=top_5_destination.index)\n",
    "print(f\"Top 4 destinations {list(top_5_destination.index)}\")\n",
    "\n",
    "# Ensuite, pour chaque destination, trouver le pays d'origine le plus fréquent\n",
    "for destination_country in top_5_destination.index:\n",
    "    flights_to_destination = df_departures[df_departures['Destination Country'] == destination_country]\n",
    "    origin_counts = flights_to_destination['Country'].value_counts().head(4)\n",
    "    top_countries[destination_country] = origin_counts.index\n",
    "    print(f\"Top 4 common origin country for flights to \\\"{destination_country}\\\": {list(origin_counts.index)}\")"
   ]
  },
  {
   "cell_type": "code",
   "execution_count": null,
   "id": "aa4834c2-04f8-4990-9f69-2228f198b857",
   "metadata": {},
   "outputs": [],
   "source": [
    "top_countries\n",
    "#Le premier pays d'origine (d'où proviennent les vols) sont les pays eux mêmes vu qu'il y a également les vols nationaux."
   ]
  },
  {
   "cell_type": "markdown",
   "id": "f4d928f5-1ad4-4bf2-854f-72b443ba9f69",
   "metadata": {},
   "source": [
    "### Pays et aéroport avec le plus de vol"
   ]
  },
  {
   "cell_type": "code",
   "execution_count": null,
   "id": "898f6251-ed2a-413c-b5c5-e05ca06db514",
   "metadata": {},
   "outputs": [],
   "source": [
    "#Ici je recherche le couple pays + aéroport qui revient le plus souvent\n",
    "# Grouper les données par aéroport et par pays, puis compter le nombre total de vols\n",
    "airport_counts = df_arrivals.groupby(['Airport', 'Country']).size().reset_index(name='Flight Count')\n",
    "\n",
    "# Identifier l'aéroport et le pays avec le plus grand nombre total de vols\n",
    "airport_most_flights = airport_counts.loc[airport_counts['Flight Count'].idxmax()]\n",
    "\n",
    "print(\"Airport with most flights:\", airport_most_flights['Airport'])\n",
    "print(\"Country with most flights:\", airport_most_flights['Country'])"
   ]
  },
  {
   "cell_type": "markdown",
   "id": "77a1afb7-b8c4-4aa0-b2a6-4dea3daec67f",
   "metadata": {},
   "source": [
    "### Pays avec le plus de vol"
   ]
  },
  {
   "cell_type": "code",
   "execution_count": null,
   "id": "6269bdf8-8ed1-4c8b-97a8-f41d3d8461fa",
   "metadata": {},
   "outputs": [],
   "source": [
    "#Pays avec le plus de vol à l'international\n",
    "international_flights = df_arrivals[df_arrivals['Flight Type'] == \"International\"]\n",
    "most_flights_country = international_flights['Departure Country'].value_counts().idxmax()\n",
    "print(f\"Le pays avec le plus de vol (Internationaux): {most_flights_country}\")\n",
    "\n",
    "#Destination favorite de ce pays (Vers où il va) \n",
    "flights_from_most_flights_country = international_flights[international_flights['Departure Country'] == most_flights_country][\"Country\"].value_counts()\n",
    "print(f\"Les destinations favorites de {most_flights_country}: {list(flights_from_most_flights_country.head(5).index)}\")"
   ]
  },
  {
   "cell_type": "markdown",
   "id": "d31721ed-384f-4e01-b77d-e9f05e81ea1f",
   "metadata": {},
   "source": [
    "### Destination favorite"
   ]
  },
  {
   "cell_type": "code",
   "execution_count": null,
   "id": "0b762dda-4fc0-44e9-961c-ebb4c06d9b82",
   "metadata": {},
   "outputs": [],
   "source": [
    "# Trouver la destination favorite en général\n",
    "international_flights = df_departures[df_departures['Flight Type'] == \"International\"]\n",
    "most_popular_destination = international_flights['Destination Country'].value_counts().idxmax()\n",
    "print(f\"La destionation favorite: {most_popular_destination}\")\n",
    "\n",
    "#Qui vient visiter\n",
    "flights_to_most_popular_destination = international_flights[international_flights['Destination Country'] == most_popular_destination][\"Country\"].value_counts()\n",
    "print(f\"Les pays qui viennent le plus visiter {most_popular_destination}: {list(flights_from_most_flights_country.head(5).index)}\")"
   ]
  },
  {
   "cell_type": "markdown",
   "id": "c5cb71f2-08c0-42ec-b9ab-a125a22cc784",
   "metadata": {},
   "source": [
    "# Analyse des retards"
   ]
  },
  {
   "cell_type": "code",
   "execution_count": null,
   "id": "89f5d7c0-ef30-49db-b9bf-61f287f22346",
   "metadata": {},
   "outputs": [],
   "source": [
    "df_flights = pd.read_csv(f'./data/data_usa/flights.csv', low_memory=False)"
   ]
  },
  {
   "cell_type": "code",
   "execution_count": null,
   "id": "96ff912a-7975-4f4b-9298-6a81f7ed6b02",
   "metadata": {},
   "outputs": [],
   "source": [
    "print(df_flights.shape)"
   ]
  },
  {
   "cell_type": "markdown",
   "id": "1f714a4b-1141-4e30-9f3a-a9717ff6a939",
   "metadata": {},
   "source": [
    "Vu la taille du dataset (contient tous les vols de l'année 2015), on ne considère qu'une partie en se limitant au mois d'avril"
   ]
  },
  {
   "cell_type": "code",
   "execution_count": null,
   "id": "98d6d653-bfdc-4268-af05-2656fc713dba",
   "metadata": {},
   "outputs": [],
   "source": [
    "df_flights_april = df_flights[df_flights['MONTH'] == 4]"
   ]
  },
  {
   "cell_type": "code",
   "execution_count": null,
   "id": "a929e604-5ea7-4dc7-92c2-e106d4798a79",
   "metadata": {},
   "outputs": [],
   "source": [
    "df_flights_april"
   ]
  },
  {
   "cell_type": "markdown",
   "id": "5af7ee4e-fb6f-47e8-99bb-285b7dcf36e5",
   "metadata": {},
   "source": [
    "## Pre-processing"
   ]
  },
  {
   "cell_type": "markdown",
   "id": "f595bd2b-9b8f-430e-9cd1-02d9fc373264",
   "metadata": {},
   "source": [
    "### Dates\n",
    "Dans le dataset, on a 4 colonnes qui font référence à la date, [YEAR,MONTH,DAY,DAY_OF_WEEK], on va utiliser le format datatime pour n'avoir qu'une seule colonne"
   ]
  },
  {
   "cell_type": "code",
   "execution_count": null,
   "id": "d967e401-f795-4797-bef5-af63da73fad3",
   "metadata": {},
   "outputs": [],
   "source": [
    "df_flights_april.insert(loc = 0, column = 'DATE',value = pd.to_datetime(df_flights_april.loc[:, ['YEAR','MONTH', 'DAY']]))"
   ]
  },
  {
   "cell_type": "code",
   "execution_count": null,
   "id": "c3111c73-d165-4cc3-8284-86fd7167fcc8",
   "metadata": {},
   "outputs": [],
   "source": [
    "df_flights_april"
   ]
  },
  {
   "cell_type": "markdown",
   "id": "d0f27c1b-6dc5-4e11-8093-8dd667d1a058",
   "metadata": {},
   "source": [
    "### Heures\n",
    "Les heures de SCHEDULED_DEPARTURES par exemple sont mal formatées, c'est un int dont les deux premiers chiffres définissent les heures et les deux derniers les minutes."
   ]
  },
  {
   "cell_type": "code",
   "execution_count": null,
   "id": "1378901c-1b8e-403e-a480-f89740fa1c6a",
   "metadata": {},
   "outputs": [],
   "source": [
    "import datetime\n",
    "import numpy as np\n",
    "#Fonction qui convertit ce format en un format datetime.time\n",
    "def convert_time(chaine):\n",
    "    float(chaine.iloc[0])\n",
    "    if pd.isna(chaine.iloc[0]):\n",
    "        return np.nan\n",
    "    else:\n",
    "        if chaine.iloc[0] == 2400: \n",
    "            chaine.iloc[0] = 0\n",
    "        chaine = \"{0:04d}\".format(int(chaine.iloc[0]))\n",
    "        heure = datetime.time(int(chaine[0:2]), int(chaine[2:4]))\n",
    "        return heure\n",
    "\n",
    "def format_col(df,col):\n",
    "    liste = []\n",
    "    for index,value in df[[col]].iterrows():\n",
    "        liste.append(convert_time(value))\n",
    "    return liste"
   ]
  },
  {
   "cell_type": "code",
   "execution_count": null,
   "id": "8d9c969f-8c45-4cfa-ab1f-e7743a02b349",
   "metadata": {},
   "outputs": [],
   "source": [
    "#Convertir les heures au bon format\n",
    "df_flights_april.loc[:,'SCHEDULED_DEPARTURE']= format_col(df_flights_april, 'SCHEDULED_DEPARTURE')\n",
    "df_flights_april.loc[:,'DEPARTURE_TIME'] = format_col(df_flights_april, 'DEPARTURE_TIME')\n",
    "df_flights_april.loc[:,'SCHEDULED_ARRIVAL'] = format_col(df_flights_april, 'SCHEDULED_ARRIVAL')\n",
    "df_flights_april.loc[:,'ARRIVAL_TIME'] = format_col(df_flights_april, 'ARRIVAL_TIME')"
   ]
  },
  {
   "cell_type": "code",
   "execution_count": null,
   "id": "db3d98e7-1f9a-4fd6-ace7-bce67165c604",
   "metadata": {},
   "outputs": [],
   "source": [
    "df_flights_april[[\"DATE\",\"SCHEDULED_DEPARTURE\",\"SCHEDULED_ARRIVAL\",\"DEPARTURE_TIME\",\"ARRIVAL_TIME\"]]"
   ]
  },
  {
   "cell_type": "code",
   "execution_count": null,
   "id": "295ddfc3-85c9-4055-b25a-8908d5c017a9",
   "metadata": {},
   "outputs": [],
   "source": [
    "df_april = df_flights_april.copy(deep=True)"
   ]
  },
  {
   "cell_type": "markdown",
   "id": "84be071d-d0ef-42dc-9397-8bb1f46b16ae",
   "metadata": {},
   "source": [
    "### Suppression des colonnes non utilisées"
   ]
  },
  {
   "cell_type": "code",
   "execution_count": null,
   "id": "79716dfc-58e8-4c6b-9a3e-4869ad36e090",
   "metadata": {},
   "outputs": [],
   "source": [
    "df_april.columns"
   ]
  },
  {
   "cell_type": "code",
   "execution_count": null,
   "id": "845f9c02-e677-4fed-9d6e-09d415b7a932",
   "metadata": {},
   "outputs": [],
   "source": [
    "non_used_columns = ['YEAR', 'MONTH', 'DAY', 'DAY_OF_WEEK','FLIGHT_NUMBER', 'TAIL_NUMBER','TAXI_OUT',\n",
    "       'WHEELS_OFF','WHEELS_ON', 'TAXI_IN','AIR_TIME','DIVERTED', 'CANCELLED', 'CANCELLATION_REASON','AIR_SYSTEM_DELAY', 'SECURITY_DELAY',\n",
    "       'AIRLINE_DELAY','LATE_AIRCRAFT_DELAY', 'WEATHER_DELAY']\n",
    "df_april = df_flights_april.drop(non_used_columns,axis=1)\n",
    "df_april"
   ]
  },
  {
   "cell_type": "code",
   "execution_count": null,
   "id": "e27d8649-0816-4e74-988a-337eb1ee72ee",
   "metadata": {},
   "outputs": [],
   "source": [
    "#Convertir les distances de miles à kilomètres\n",
    "import math\n",
    "def miles_to_kilometers(miles):\n",
    "    return math.ceil(float(miles.iloc[0]) * 1.60934)\n",
    "\n",
    "def convert_distances(df,col):\n",
    "    liste = []\n",
    "    for index,value in df[[col]].iterrows():\n",
    "        liste.append(miles_to_kilometers(value))\n",
    "    return liste"
   ]
  },
  {
   "cell_type": "code",
   "execution_count": null,
   "id": "e45283ae-caba-4d01-acfc-5cef185f7377",
   "metadata": {},
   "outputs": [],
   "source": [
    "df_april.loc[:,'DISTANCE']= convert_distances(df_april, 'DISTANCE')"
   ]
  },
  {
   "cell_type": "code",
   "execution_count": null,
   "id": "7a9bef16-a638-4d3c-b78d-dbe6513bbff2",
   "metadata": {},
   "outputs": [],
   "source": [
    "df_april"
   ]
  },
  {
   "cell_type": "markdown",
   "id": "fa074ecb-c96f-4e80-a443-75536090c643",
   "metadata": {},
   "source": [
    "## Analyse"
   ]
  },
  {
   "cell_type": "markdown",
   "id": "765e2b21-ed80-43da-a746-c33d399dd036",
   "metadata": {},
   "source": [
    "### Valeurs manquantes"
   ]
  },
  {
   "cell_type": "code",
   "execution_count": null,
   "id": "78788f30-eb83-46ec-ac9b-44caf7f158f5",
   "metadata": {},
   "outputs": [],
   "source": [
    "missing_df = df_april.isnull().sum(axis=0).reset_index()\n",
    "missing_df.columns = ['Colonne', 'NaN Values']\n",
    "missing_df['Filling factor (%)']=(df_april.shape[0]-missing_df['NaN Values'])/df_april.shape[0]*100\n",
    "missing_df.sort_values('Filling factor (%)').reset_index(drop = True)"
   ]
  },
  {
   "cell_type": "markdown",
   "id": "c0d1bcee-9688-4d7a-824a-910eec46af4b",
   "metadata": {},
   "source": [
    "On voit bien que la majorité des colonnes sont pleines et celles qui sont vides ont un filling factor très élevée (le dataset est bien rempli)."
   ]
  },
  {
   "cell_type": "code",
   "execution_count": null,
   "id": "232048af-732d-4be3-aa93-dec4bb6e5032",
   "metadata": {},
   "outputs": [],
   "source": [
    "df_april.describe()"
   ]
  },
  {
   "cell_type": "markdown",
   "id": "1a4e20fd-f9cf-4015-b33c-b010dc763851",
   "metadata": {},
   "source": [
    "On se concentre sur les colonnes DEPARTURE_DELAY et ARRIVAL_DELAY, la moyenne dans tous le dataset est respectivement de: 7.721885 et 3.163190 min.\n",
    "Pourtant 50% des vols décollent avant l'heure prévue d'environ 2 min et arrivent avant l'heure prévue de 5 min. \n",
    "\n",
    "Mais à 75%, on note un retard d'environ 6 et 7 min au décollage et à l'arrivée.\n",
    "\n",
    "Le plus grand retard enregistrée est d'environ 24,9 heures au décollage et de 25,9 heures à l'arrivée."
   ]
  },
  {
   "cell_type": "markdown",
   "id": "930fe3e1-9c1b-4e2b-b09f-a59773aefd78",
   "metadata": {},
   "source": [
    "### Airlines"
   ]
  },
  {
   "cell_type": "markdown",
   "id": "2c75feb7-355e-4529-80cf-4d7342046565",
   "metadata": {},
   "source": [
    "#### Departure Delay par compagnies aériennes"
   ]
  },
  {
   "cell_type": "code",
   "execution_count": null,
   "id": "7d816aca-3b66-4ab4-8285-6f215b2b3ca1",
   "metadata": {},
   "outputs": [],
   "source": [
    "def get_stats(group):\n",
    "    return {'count': group.count(),'min': group.min(), 'max': group.max(), 'mean': group.mean()}\n",
    "#_______________________________________________________________\n",
    "# Creation of a dataframe with statitical infos on each airline:\n",
    "delay_per_airline_stats = df_april['DEPARTURE_DELAY'].groupby(df_april['AIRLINE']).apply(get_stats).unstack()\n",
    "delay_per_airline_stats = delay_per_airline_stats.sort_values('count')\n",
    "delay_per_airline_stats"
   ]
  },
  {
   "cell_type": "markdown",
   "id": "53391370-c846-4c8c-b429-63a6b129881f",
   "metadata": {},
   "source": [
    "La compagnie aérienne qui fait le plus de retard environ 12 min au décollage est la compagnie aérienne UA: United Air Lines Inc.\n",
    "\n",
    "Celle qui fait le moins de retard avec une moyenne d'environ -2 min est HA: Hawaiian Airlines Inc.\n",
    "\n",
    "Le pire retard enregistré (25.7) a été effectué par la compagnie AA : American Airlines Inc.\n",
    "\n",
    "La meilleure avance enregistré (68 min) a été effectué par la compagnie AA aussi (American Airlines Inc.)"
   ]
  },
  {
   "cell_type": "code",
   "execution_count": null,
   "id": "73ef0c6e-ceb6-41aa-9b6a-da017af83fc7",
   "metadata": {},
   "outputs": [],
   "source": [
    "import seaborn as sns\n",
    "import matplotlib.pyplot as plt\n",
    "\n",
    "# Iterate through each airline\n",
    "for airline in delay_per_airline_stats.index:\n",
    "    # Filter data for the current airline\n",
    "    data = df_april[df_april['AIRLINE'] == airline]\n",
    "    \n",
    "    # Create a violin plot for the current airline\n",
    "    plt.figure(figsize=(6, 4))\n",
    "    sns.violinplot(x = \"AIRLINE\",y=\"DEPARTURE_DELAY\",data=data)\n",
    "\n",
    "    # Add title and labels\n",
    "    plt.title(f'Distribution of Departure Delays for {airline}')\n",
    "    plt.xlabel('Departure Delay (minutes)')\n",
    "    plt.ylabel('Density')\n",
    "    \n",
    "    # Show the plot\n",
    "    plt.show()"
   ]
  },
  {
   "cell_type": "code",
   "execution_count": null,
   "id": "f0c32757-d252-4cbb-afcd-650191311d3d",
   "metadata": {},
   "outputs": [],
   "source": [
    "import seaborn as sns\n",
    "import matplotlib.pyplot as plt\n",
    "\n",
    "# Iterate through each airline\n",
    "for airline in delay_per_airline_stats.index:\n",
    "    # Filter data for the current airline\n",
    "    data = df_april[df_april['AIRLINE'] == airline]\n",
    "    \n",
    "    sns.boxplot(x = \"DEPARTURE_DELAY\",data = data)\n",
    "    plt.title('Box Plot of Departure Delays by Airline')\n",
    "    plt.xlabel('Airline')\n",
    "    plt.ylabel('Departure Delay (minutes)')\n",
    "    plt.xticks(rotation=45)  # Rotate labels for better readability\n",
    "    plt.show()\n",
    "    \n",
    "    # Show the plot\n",
    "    plt.show()\n",
    "# Créer un box plot avec Seaborn\n",
    "plt.figure(figsize=(10, 6))\n",
    "sns.boxplot(x=df_april['AIRLINE'], y=df_april['DEPARTURE_DELAY'])\n",
    "plt.title('Box Plot of Departure Delays by Airline')\n",
    "plt.xlabel('Airline')\n",
    "plt.ylabel('Departure Delay (minutes)')\n",
    "plt.xticks(rotation=45)  # Rotate labels for better readability\n",
    "plt.show()"
   ]
  },
  {
   "cell_type": "code",
   "execution_count": null,
   "id": "68dd02ef-5dfa-4a05-90b5-e306deeaa40c",
   "metadata": {},
   "outputs": [],
   "source": [
    "# I redefine the colors for correspondance with the pie charts\n",
    "colors = ['firebrick', 'gold', 'lightcoral', 'aquamarine', 'c', 'yellowgreen', 'grey',\n",
    "          'seagreen', 'tomato', 'violet', 'wheat', 'chartreuse', 'lightskyblue', 'royalblue']\n",
    "plt.figure(figsize=(10, 6))\n",
    "sns.stripplot(y=\"AIRLINE\", x=\"DEPARTURE_DELAY\", size = 4, palette = colors,\n",
    "                    data=df_april, linewidth = 0.5,  jitter=True)\n",
    "plt.show()"
   ]
  },
  {
   "cell_type": "markdown",
   "id": "767c023e-16f4-4c1f-92c7-9444bfdc6f9f",
   "metadata": {},
   "source": [
    "La plupart des retards de départ pour toutes les compagnies aériennes sont compris entre environ -7 minutes et 20 minutes. Cependant, pour certaines compagnies, ces retards peuvent aller jusqu'à environ 50 minutes. Au-delà de ces durées habituelles, il existe des durées bien plus élevées, mais ces valeurs sont considérées comme des données aberrantes, car elles surviennent rarement."
   ]
  },
  {
   "cell_type": "markdown",
   "id": "bd03609c-ee8f-49a2-9a1f-42077cd3737a",
   "metadata": {},
   "source": [
    "#### % de retard (moyennes) par compagnies"
   ]
  },
  {
   "cell_type": "code",
   "execution_count": null,
   "id": "b8bf5ab6-ed76-4358-b1ea-8ed1bae589cf",
   "metadata": {},
   "outputs": [],
   "source": [
    "# Extract labels and sizes from delay_per_airline_stats DataFrame\n",
    "labels = delay_per_airline_stats.index\n",
    "sizes = delay_per_airline_stats['mean'].values\n",
    "sizes  = [max(s,0) for s in sizes]\n",
    "\n",
    "# Plot the pie chart\n",
    "plt.figure(figsize=(8, 6))\n",
    "plt.pie(sizes, labels=labels, autopct=lambda x: f\"{x:.0f}\", startangle=0)\n",
    "\n",
    "# Set title and aspect ratio\n",
    "plt.title('% of mean delay per airline', fontsize=18)\n",
    "\n",
    "# Show the plot\n",
    "plt.show()"
   ]
  },
  {
   "cell_type": "markdown",
   "id": "7cc5df4c-00c0-4518-a3dc-b1bd75611954",
   "metadata": {},
   "source": [
    "#### % de vols par compagnies"
   ]
  },
  {
   "cell_type": "code",
   "execution_count": null,
   "id": "ee3743f0-907d-4027-9d95-5d950992f2c2",
   "metadata": {},
   "outputs": [],
   "source": [
    "print(delay_per_airline_stats.index)"
   ]
  },
  {
   "cell_type": "code",
   "execution_count": null,
   "id": "83c98e7c-874a-4171-9efc-1d0b1ea6a468",
   "metadata": {},
   "outputs": [],
   "source": [
    "# Extract labels and sizes from delay_per_airline_stats DataFrame\n",
    "labels = delay_per_airline_stats.index\n",
    "sizes = delay_per_airline_stats['count'].values\n",
    "\n",
    "# Set explode values based on sizes\n",
    "explode = [0.3 if size < 20000 else 0.0 for size in sizes]\n",
    "\n",
    "# Plot the pie chart\n",
    "plt.figure(figsize=(8, 6))\n",
    "plt.pie(sizes, explode=explode, labels=labels, autopct='%1.0f%%', startangle=0)\n",
    "\n",
    "# Set title and aspect ratio\n",
    "plt.title('% of flights per airline', fontsize=18)\n",
    "plt.axis('equal')\n",
    "\n",
    "# Show the plot\n",
    "plt.show()"
   ]
  },
  {
   "cell_type": "markdown",
   "id": "3d0a53ca-a27d-4131-a609-12fe707b7551",
   "metadata": {},
   "source": [
    "La compagnie aérienne WN (Southwest Airlines Co.) est la compagnie aérienne qui effectue le plus de vol pourtant ce n'est pas celle qui commet la plus grande moyenne de crimes (elle est classée 5ème parmi toutes les compagnies).\n",
    "\n",
    "Toutefois le premier camembert montre qu'il y a très peut de différences entre les compagnies aériennes pour les retards commis, à l'exception des compagnies Hawaiian Airlines et Alaska Airlines qui ont une moyenne proche de 0, le reste des compagnies ont une moyenne qui reste relativement faible entre 7 et 13 min."
   ]
  },
  {
   "cell_type": "markdown",
   "id": "ecf6bf6f-d37d-4357-a268-d9c38dc110b7",
   "metadata": {},
   "source": [
    "#### Comparaison entre le retard effectuée au départ et à l'arrivée"
   ]
  },
  {
   "cell_type": "code",
   "execution_count": null,
   "id": "ba905583-7a01-49cb-8824-8b3065f94a0a",
   "metadata": {},
   "outputs": [],
   "source": [
    "fig = plt.figure(1, figsize=(11,6))\n",
    "ax = sns.barplot(x=\"DEPARTURE_DELAY\", y=\"AIRLINE\", data=df_april, color=\"lightblue\", errorbar=None)\n",
    "ax = sns.barplot(x=\"ARRIVAL_DELAY\", y=\"AIRLINE\", data=df_april, hatch = '///',alpha = 0.0, errorbar=None)\n",
    "plt.xlabel('Mean delay [min] (@departure: blue, @arrival: hatch lines)',fontsize=14, weight = 'bold', labelpad=10);"
   ]
  },
  {
   "cell_type": "markdown",
   "id": "89335423-2976-41e2-89b8-e82fecc855b3",
   "metadata": {},
   "source": [
    "On remarque que pour la majorité des compagnies aériennes, le retard qu'elles ont effectuée au départ est rattrapée lors du vol. Elles ajustent la durée du vol afin qu'il n'y ait pas de conséquences sur l'heure d'arrivée, sauf pour les compagnies AS:Alaska Airlines Inc. et HA:Hawaiian Airlines Inc. qui respectivement arrivent en avance et décollent avant l'heure prévue"
   ]
  },
  {
   "cell_type": "markdown",
   "id": "896f73f8-18b1-4bc2-9035-6bbf59bf9e91",
   "metadata": {},
   "source": [
    "### Relation between distance and delays"
   ]
  },
  {
   "cell_type": "code",
   "execution_count": null,
   "id": "648c8d25-853a-4ec0-ae79-0ee637e944b0",
   "metadata": {},
   "outputs": [],
   "source": [
    "# Calcul de la matrice de corrélation\n",
    "correlation_matrix = df_april[['DISTANCE', 'DEPARTURE_DELAY', 'ARRIVAL_DELAY']].corr()\n",
    "\n",
    "# Affichage de la heatmap\n",
    "plt.figure(figsize=(8, 6))\n",
    "sns.heatmap(correlation_matrix, annot=True, cmap='coolwarm', fmt=\".2f\", linewidths=0.5)\n",
    "plt.title('Correlation Between Distance and Delays')\n",
    "plt.show()"
   ]
  },
  {
   "cell_type": "markdown",
   "id": "dbf49577-0a1b-4bb0-8058-1a9e6064f2a3",
   "metadata": {},
   "source": [
    "La distance n'a pas d'incidence sur les retards, mais évidemment il y a une forte corrélation entre le retard au décollage et à l'arrivée, on a tout de même vu plus haut que le retard à l'arrivée était rattrapée par rapport au décollage"
   ]
  },
  {
   "cell_type": "markdown",
   "id": "0c8e1c6a-fa62-4bb0-83fb-7285ae543245",
   "metadata": {},
   "source": [
    "### Aéroports et Retards"
   ]
  },
  {
   "cell_type": "code",
   "execution_count": null,
   "id": "8dc85e2f-4cf6-4619-a585-1a02d5210804",
   "metadata": {},
   "outputs": [],
   "source": [
    "airlines_names = pd.read_csv('data/data_usa/airlines.csv')\n",
    "airports = pd.read_csv('data/data_usa/airports.csv')"
   ]
  },
  {
   "cell_type": "code",
   "execution_count": null,
   "id": "f52b63f2-50c4-4914-962b-3d448ab05db7",
   "metadata": {},
   "outputs": [],
   "source": [
    "abbr_companies = airlines_names.set_index('IATA_CODE')['AIRLINE'].to_dict()"
   ]
  },
  {
   "cell_type": "code",
   "execution_count": null,
   "id": "a6a63fe6-de8b-41cf-b664-f27fdd727c6a",
   "metadata": {},
   "outputs": [],
   "source": [
    "identify_airport = airports.set_index('IATA_CODE')['CITY'].to_dict()"
   ]
  },
  {
   "cell_type": "code",
   "execution_count": null,
   "id": "658f977a-6f9f-49d2-9135-5bf35f23109a",
   "metadata": {},
   "outputs": [],
   "source": [
    "pd.set_option('display.max_rows', df_april.shape[0]+1)"
   ]
  },
  {
   "cell_type": "markdown",
   "id": "58ce6061-74c2-4c3e-abd1-b86fd514321b",
   "metadata": {},
   "source": [
    "#### Statistiques des aéroports"
   ]
  },
  {
   "cell_type": "code",
   "execution_count": null,
   "id": "a95f27cd-9de7-4cb8-8ab2-f1938a92a7d8",
   "metadata": {},
   "outputs": [],
   "source": [
    "def get_stats(group):\n",
    "    return {'count': group.count(),'min': group.min(), 'max': group.max(), 'mean': group.mean()}\n",
    "#_______________________________________________________________\n",
    "# Creation of a dataframe with statitical infos on each airline:\n",
    "delay_per_airport_stats = df_april['DEPARTURE_DELAY'].groupby(df_april['ORIGIN_AIRPORT']).apply(get_stats).unstack()\n",
    "delay_per_airport_stats = delay_per_airport_stats.sort_values('count')\n",
    "styled_per_airport_stats = delay_per_airport_stats.style.highlight_max(color='lightgreen').highlight_min(color='lightcoral')\n",
    "# Display the styled DataFrame\n",
    "print(delay_per_airport_stats[\"mean\"].mean())"
   ]
  },
  {
   "cell_type": "code",
   "execution_count": null,
   "id": "22d1abd7-89a3-4aa1-b42d-d6fda619774f",
   "metadata": {
    "scrolled": true
   },
   "outputs": [],
   "source": [
    "styled_per_airport_stats"
   ]
  },
  {
   "cell_type": "markdown",
   "id": "6dfff44d-724d-4560-82c7-0b594bc97834",
   "metadata": {},
   "source": [
    "Le retard moyen au décollage enregistré pour le mois d'avril entre tous les aéroports est d'environ 5 min ce qui est considéré comme un retard  acceptable. Le pire retard enregistré a été effectué par l'aéroport de San Diego avec 25,7 heures de retard mais en moyenne ce n'est pas l'aéroport qui fait le plus de retard (6.78 min). En moyenne c'est l'aéroport de Jack Brooks Regional qui est le plus en retard (31,78 min) mais on peut pas encore le classer comme étant le pire aéroport, ça dépend du nombre de vols qu'ils effectuent (si cet aéroport n'effectue pas beaucoup de vols c'est normal que sa moyenne soit élevée)."
   ]
  },
  {
   "cell_type": "markdown",
   "id": "de44b845-3da5-4fa7-a8e2-d570b6e484fd",
   "metadata": {},
   "source": [
    "#### Statistique des aéroports en fonction des compagnies aériennes"
   ]
  },
  {
   "cell_type": "markdown",
   "id": "0d80292f-7bc9-4219-a0d3-ef4f5585726a",
   "metadata": {},
   "source": [
    "##### Au départ"
   ]
  },
  {
   "cell_type": "code",
   "execution_count": null,
   "id": "5722160a-7c8f-43bb-a5f2-974bcfbec34d",
   "metadata": {},
   "outputs": [],
   "source": [
    "delay_per_airport_airline_stats = df_april['DEPARTURE_DELAY'].groupby([df_april['AIRLINE'], df_april['ORIGIN_AIRPORT']]).apply(get_stats).unstack()\n",
    "delay_per_airport_airline_stats = delay_per_airport_airline_stats.sort_values(by='count').sort_index()\n",
    "\n",
    "# Display the styled DataFrame\n",
    "print(delay_per_airport_airline_stats[\"mean\"].mean())"
   ]
  },
  {
   "cell_type": "code",
   "execution_count": null,
   "id": "a799936b-f989-4479-a628-a3e77c3bdd4f",
   "metadata": {
    "scrolled": true
   },
   "outputs": [],
   "source": [
    "# Réorganiser les niveaux de l'index pour avoir les compagnies aériennes en premier niveau\n",
    "delay_per_airport_airline_stats = delay_per_airport_airline_stats.swaplevel(1,0);\n",
    "\n",
    "# Trier les index par compagnies aériennes\n",
    "delay_per_airport_airline_stats = delay_per_airport_airline_stats.sort_index(level=0)\n",
    "\n",
    "level_names = delay_per_airport_airline_stats.index.names\n",
    "\n",
    "# Define a function to apply the styling for each airline\n",
    "def highlight_best_worst_per_airline(s):\n",
    "    max_val = s.groupby(level=level_names.index('AIRLINE')).max()\n",
    "    min_val = s.groupby(level=level_names.index('AIRLINE')).min()\n",
    "    return ['background-color: lightgreen' if v == max_val[a] else 'background-color: lightcoral' if v == min_val[a] else '' for a, v in zip(s.index.get_level_values(level_names.index('AIRLINE')), s)]\n",
    "\n",
    "# Apply the styling function on each airline\n",
    "styled_per_airport_airline_stats = delay_per_airport_airline_stats.style.apply(highlight_best_worst_per_airline, axis=0)\n",
    "\n",
    "# Display the DataFrame with the style\n",
    "styled_per_airport_airline_stats"
   ]
  },
  {
   "cell_type": "markdown",
   "id": "d085fdbe-04cc-41e2-a40e-664d220bf05e",
   "metadata": {},
   "source": [
    "En moyenne, les pires et meilleures délais on été effectué à partir des aéroports suivant pour chaque compagnie aériennes:\n",
    "\n",
    "AA:\n",
    "\n",
    "    - Meilleur: JAC avec environ 13,86 minutes d'avance au décollage\n",
    "    - Pire: SDF avec environ 39,77 minutes de retard\n",
    "\n",
    "AS:\n",
    "\n",
    "    - Meilleur: LIH avec environ 8,04 minutes d'avance au décollage\n",
    "    - Pire: TPA avec environ 11,46 minutes de retard\n",
    "\n",
    "\n",
    "B6:\n",
    "\n",
    "    - Meilleur: DTW avec environ 0,84 minutes d'avance au décollage\n",
    "    - Pire: SJC avec environ 33,83 minutes de retard\n",
    "\n",
    "DL:\n",
    "\n",
    "    - Meilleur: ONT avec environ 6,5 minutes d'avance au décollage\n",
    "    - Pire: PWM avec environ 25,20 minutes de retard\n",
    "\n",
    "EV:\n",
    "\n",
    "    - Meilleur: BIL avec environ 9,30 minutes d'avance au décollage\n",
    "    - Pire: HOU avec environ 37,73 minutes de retard\n",
    "\n",
    "F9:\n",
    "\n",
    "    - Meilleur: BZN avec environ 9 minutes d'avance au décollage\n",
    "    - Pire: BMI avec environ 35 minutes de retard\n",
    "\n",
    "HA:\n",
    "\n",
    "    - Meilleur: JFK avec environ 9,04 minutes d'avance au décollage\n",
    "    - Pire: LAS avec environ 12,06 minutes de retard\n",
    "\n",
    "MQ:\n",
    "\n",
    "    - Meilleur: LAX avec environ 5,40 minutes d'avance au décollage\n",
    "    - Pire: SAF avec environ 35,5 minutes de retard\n",
    "\n",
    "NK:\n",
    "\n",
    "    - Meilleur: PBI avec environ 0,9 minutes de retard au décollage\n",
    "    - Pire: MSY avec environ 18 minutes de retard\n",
    "\n",
    "OO:\n",
    "\n",
    "    - Meilleur: GUC avec environ 14 minutes d'avance au décollage\n",
    "    - Pire: CHO avec environ 25,76 minutes de retard\n",
    "\n",
    "UA:\n",
    "\n",
    "    - Meilleur: HDN avec environ 7,38 minutes d'avance au décollage\n",
    "    - Pire: BQN avec environ 74,64 minutes de retard\n",
    "\n",
    "US:\n",
    "\n",
    "    - Meilleur: GEG avec environ 7,03 minutes d'avance au décollage\n",
    "    - Pire: ORF avec environ 37 minutes de retard\n",
    "\n",
    "VX:\n",
    "\n",
    "    - Meilleur: DCA avec environ 2,58 minutes d'avance au décollage\n",
    "    - Pire: MCO avec environ 23,73 minutes de retard\n",
    "\n",
    "WN:\n",
    "\n",
    "    - Meilleur: DSM avec environ 0,73 minutes d'avance au décollage\n",
    "    - Pire: SDF avec environ 14,09 minutes de retard\n",
    "\n",
    "\n",
    "A première vue, le meilleur aéroport en termes de temps de retard serait l'aéroport GUC et le pire serait l'aéroport BQN"
   ]
  },
  {
   "cell_type": "markdown",
   "id": "61bc5cff-2572-465f-943e-d28a15add729",
   "metadata": {},
   "source": [
    "##### Afficher les 10 pires aéroports et les 10 meilleurs"
   ]
  },
  {
   "cell_type": "code",
   "execution_count": null,
   "id": "5d4b73fb-85ff-43ec-8708-06780e503a38",
   "metadata": {},
   "outputs": [],
   "source": [
    "# Trier les aéroports par retard moyen\n",
    "sorted_mean_delay = delay_per_airport_stats.sort_values(by='mean')\n",
    "# Calculate normalized mean delay for each airport\n",
    "normalized_mean_delay = sorted_mean_delay['mean'] / sorted_mean_delay['count']\n",
    "\n",
    "# Set the number of airports to display on each end (e.g., top 10 and bottom 10)\n",
    "top_n = 5\n",
    "bottom_n = 5\n",
    "\n",
    "# Select the top and bottom airports based on normalized mean delay\n",
    "top_airports = normalized_mean_delay.tail(top_n)\n",
    "bottom_airports = normalized_mean_delay.head(bottom_n)\n",
    "\n",
    "# Create subplots\n",
    "fig, axes = plt.subplots(2, 1, figsize=(12, 10))\n",
    "\n",
    "# Plot the normalized mean delays for top airports\n",
    "axes[0].bar(top_airports.index, top_airports, color='skyblue')\n",
    "axes[0].set_title('Top Airports by Normalized Mean Delay')\n",
    "axes[0].set_ylabel('Normalized Mean Delay')\n",
    "axes[0].tick_params(axis='x', rotation=45, labelsize=8)  # Rotate x-axis labels for better visibility\n",
    "\n",
    "# Plot the normalized mean delays for bottom airports\n",
    "axes[1].bar(bottom_airports.index, bottom_airports, color='skyblue')\n",
    "axes[1].set_title('Bottom Airports by Normalized Mean Delay')\n",
    "axes[1].set_ylabel('Normalized Mean Delay')\n",
    "axes[1].tick_params(axis='x', rotation=45, labelsize=8)  # Rotate x-axis labels for better visibility\n",
    "\n",
    "plt.tight_layout()\n",
    "plt.show()"
   ]
  },
  {
   "cell_type": "markdown",
   "id": "2bbccb53-7df9-4811-a95f-03b0f34cda2f",
   "metadata": {},
   "source": [
    "Après normalisation des valeurs (vu que le nombre de vols effectués par chaque comagnie aérienne à partir de ces aéroports n'est pas le même le résultat peut être biaisé) le graphe confirme en effet que GUC présente l'une des meilleurs performances après l'aéroport HDN (ne fait pas de retard en moyenne et est en avance) et BQN fait parti en effet des trois pires aéroports après les aéroports MQT et GUN."
   ]
  },
  {
   "cell_type": "markdown",
   "id": "615905b1-9371-4174-b8cc-1c9375d8f7c9",
   "metadata": {},
   "source": [
    "##### A l'arrivée"
   ]
  },
  {
   "cell_type": "code",
   "execution_count": null,
   "id": "d5ddc436-cf15-4386-8ba9-8c64c779056e",
   "metadata": {},
   "outputs": [],
   "source": [
    "arrival_per_airport_airline_stats = df_april['ARRIVAL_DELAY'].groupby([df_april['AIRLINE'], df_april['ORIGIN_AIRPORT']]).apply(get_stats).unstack()\n",
    "arrival_per_airport_airline_stats = arrival_per_airport_airline_stats.sort_values(by='count').sort_index()\n",
    "\n",
    "# Display the styled DataFrame\n",
    "print(arrival_per_airport_airline_stats[\"mean\"].mean())"
   ]
  },
  {
   "cell_type": "code",
   "execution_count": null,
   "id": "2428da6c-946f-4333-bcf9-6db93c931640",
   "metadata": {
    "scrolled": true
   },
   "outputs": [],
   "source": [
    "# Réorganiser les niveaux de l'index pour avoir les compagnies aériennes en premier niveau\n",
    "arrival_per_airport_airline_stats = arrival_per_airport_airline_stats.swaplevel(1,0);\n",
    "\n",
    "# Trier les index par compagnies aériennes\n",
    "arrival_per_airport_airline_stats = arrival_per_airport_airline_stats.sort_index(level=0)\n",
    "\n",
    "level_names_arrival = arrival_per_airport_airline_stats.index.names\n",
    "\n",
    "# Define a function to apply the styling for each airline\n",
    "def highlight_best_worst_per_airline_arrival(s):\n",
    "    max_val = s.groupby(level=level_names_arrival.index('AIRLINE')).max()\n",
    "    min_val = s.groupby(level=level_names_arrival.index('AIRLINE')).min()\n",
    "    return ['background-color: lightgreen' if v == max_val[a] else 'background-color: lightcoral' if v == min_val[a] else '' for a, v in zip(s.index.get_level_values(level_names_arrival.index('AIRLINE')), s)]\n",
    "\n",
    "# Apply the styling function on each airline\n",
    "styled_per_airport_airline_stats_arrival = arrival_per_airport_airline_stats.style.apply(highlight_best_worst_per_airline_arrival, axis=0)\n",
    "\n",
    "# Display the DataFrame with the style\n",
    "styled_per_airport_airline_stats_arrival"
   ]
  },
  {
   "cell_type": "markdown",
   "id": "3fe0a0e3-477d-47cb-9e76-59d11e8afc24",
   "metadata": {},
   "source": [
    "En moyenne, les pires et meilleures délais on été effectué à partir des aéroports suivant pour chaque compagnie aériennes:\n",
    "\n",
    "AA:\n",
    "\n",
    "    - Meilleur: HDN avec environ 15,85 minutes d'avance à l'arrivée\n",
    "    - Pire: SDF avec environ 47,08 minutes de retard\n",
    "\n",
    "AS:\n",
    "\n",
    "    - Meilleur: EWR avec environ 18,01 minutes d'avance à l'arrivée\n",
    "    - Pire: JNU avec environ 9 minutes de retard\n",
    "\n",
    "\n",
    "B6:\n",
    "\n",
    "    - Meilleur: DTW avec environ 10,18 minutes d'avance à l'arrivée\n",
    "    - Pire: SJC avec environ 32,65 minutes de retard\n",
    "\n",
    "DL:\n",
    "\n",
    "    - Meilleur: MHT avec environ 15,23 minutes d'avance à l'arrivée\n",
    "    - Pire: ROA avec environ 20,53 minutes de retard\n",
    "\n",
    "EV:\n",
    "\n",
    "    - Meilleur: PHL avec environ 18,20 minutes d'avance à l'arrivée\n",
    "    - Pire: HOU avec environ 32,33 minutes de retard\n",
    "\n",
    "F9:\n",
    "\n",
    "    - Meilleur: BZN avec environ 5,56 minutes d'avance à l'arrivée\n",
    "    - Pire: SFO avec environ 31,16 minutes de retard\n",
    "\n",
    "HA:\n",
    "\n",
    "    - Meilleur: SEA avec environ 6,51 minutes d'avance à l'arrivée\n",
    "    - Pire: LAS avec environ 20,91 minutes de retard\n",
    "\n",
    "MQ:\n",
    "\n",
    "    - Meilleur: LAX avec environ 9,60 minutes d'avance à l'arrivée\n",
    "    - Pire: SAF avec environ 40,63 minutes de retard\n",
    "\n",
    "NK:\n",
    "\n",
    "    - Meilleur: SJU avec environ 4,77 minutes de retard à l'arrivée\n",
    "    - Pire: MSY avec environ 22.95 minutes de retard\n",
    "\n",
    "OO:\n",
    "\n",
    "    - Meilleur: GUC avec environ 25,50 minutes de retard à l'arrivée\n",
    "    - Pire: CHS avec environ 24,01 minutes de retard\n",
    "\n",
    "UA:\n",
    "\n",
    "    - Meilleur: HDN avec environ 21,75 minutes d'avance à l'arrivée\n",
    "    - Pire: BQN avec environ 70,32 minutes de retard\n",
    "\n",
    "US:\n",
    "\n",
    "    - Meilleur: KOA avec environ 23,31 minutes d'avance à l'arrivée\n",
    "    - Pire: ORF avec environ 51,25 minutes de retard\n",
    "\n",
    "VX:\n",
    "\n",
    "    - Meilleur: DCA avec environ 11,75 minutes d'avance à l'arrivée\n",
    "    - Pire: MCO avec environ 18,13 minutes de retard\n",
    "\n",
    "WN:\n",
    "\n",
    "    - Meilleur: PWM avec environ 5,88 minutes d'avance à l'arrivée\n",
    "    - Pire: LAX avec environ 7,69 minutes de retard\n",
    "\n",
    "\n",
    "A première vue, le meilleur aéroport en termes de temps de retard serait l'aéroport GUC et le pire serait l'aéroport BQN toujours (ce qui est logique car BQN a un retard moyen d'environ 74 minutes au décollage donc il a du mal à rattraper ce retard à l'arrivée et GUC décolle en moyenne 14 minutes en avance)."
   ]
  },
  {
   "cell_type": "code",
   "execution_count": null,
   "id": "bf71e1d9-e698-4380-8a30-cda6663095d3",
   "metadata": {},
   "outputs": [],
   "source": [
    "# Trier les aéroports par retard moyen\n",
    "sorted_mean_arrival = arrival_per_airport_airline_stats.sort_values(by='mean')\n",
    "# Calculate normalized mean delay for each airport\n",
    "normalized_mean_arrival = sorted_mean_arrival['mean'] / sorted_mean_arrival['count']\n",
    "# Set the number of airports to display on each end (e.g., top 10 and bottom 10)\n",
    "top_n = 5\n",
    "bottom_n = 5\n",
    "\n",
    "# Select the top and bottom airports based on normalized mean delay\n",
    "top_airports_arrival = normalized_mean_arrival.tail(top_n)\n",
    "bottom_airports_arrival = normalized_mean_arrival.head(bottom_n)\n",
    "# Create subplots\n",
    "fig, axes = plt.subplots(2, 1, figsize=(12, 10))\n",
    "top_airports_arrival.index = top_airports_arrival.index.map(str)\n",
    "bottom_airports_arrival.index = bottom_airports_arrival.index.map(str)\n",
    "# Plot the normalized mean delays for top airports\n",
    "axes[0].bar(top_airports_arrival.index, top_airports_arrival, color='skyblue')\n",
    "axes[0].set_title('Top Airports by Normalized Mean Delay')\n",
    "axes[0].set_ylabel('Normalized Mean Delay')\n",
    "axes[0].tick_params(axis='x', rotation=45, labelsize=8)  # Rotate x-axis labels for better visibility\n",
    "\n",
    "# Plot the normalized mean delays for bottom airports\n",
    "axes[1].bar(bottom_airports_arrival.index, bottom_airports_arrival, color='skyblue')\n",
    "axes[1].set_title('Bottom Airports by Normalized Mean Delay')\n",
    "axes[1].set_ylabel('Normalized Mean Delay')\n",
    "axes[1].tick_params(axis='x', rotation=45, labelsize=8)  # Rotate x-axis labels for better visibility\n",
    "\n",
    "plt.tight_layout()\n",
    "plt.show()"
   ]
  },
  {
   "cell_type": "markdown",
   "id": "4e2d787b-e41a-4051-9b6b-232fde670080",
   "metadata": {},
   "source": [
    "Après la normalisation par contre, on remarque que BQN n'est plus le pire aéroport c'est ORF avec la compagnie aérienne US, et le meilleur reste GUC avec OO."
   ]
  },
  {
   "cell_type": "markdown",
   "id": "f973807b-6d5e-4de3-8273-18641143730f",
   "metadata": {},
   "source": [
    "### Analyse des tendances temporelles"
   ]
  },
  {
   "cell_type": "markdown",
   "id": "5021a870-e4e9-406f-b038-26c8f88569a0",
   "metadata": {},
   "source": [
    "#### Preprocess du dataframe entier"
   ]
  },
  {
   "cell_type": "code",
   "execution_count": null,
   "id": "95c0d5e3-6a20-4def-8da7-c98bdb35e0a3",
   "metadata": {},
   "outputs": [],
   "source": [
    "df_flights.insert(loc = 0, column = 'DATE',value = pd.to_datetime(df_flights.loc[:, ['YEAR','MONTH', 'DAY']]))"
   ]
  },
  {
   "cell_type": "code",
   "execution_count": null,
   "id": "dd4ab84b-b6cb-494a-b5af-67f3ffe88370",
   "metadata": {},
   "outputs": [],
   "source": [
    "df_flights.loc[:,'SCHEDULED_DEPARTURE']= format_col(df_flights, 'SCHEDULED_DEPARTURE')\n",
    "df_flights.loc[:,'DEPARTURE_TIME'] = format_col(df_flights, 'DEPARTURE_TIME')\n",
    "df_flights.loc[:,'SCHEDULED_ARRIVAL'] = format_col(df_flights, 'SCHEDULED_ARRIVAL')\n",
    "df_flights.loc[:,'ARRIVAL_TIME'] = format_col(df_flights, 'ARRIVAL_TIME')"
   ]
  },
  {
   "cell_type": "code",
   "execution_count": null,
   "id": "3865603d-0e84-4796-9931-e27c1d371577",
   "metadata": {},
   "outputs": [],
   "source": [
    "df_flights[[\"DATE\",\"SCHEDULED_DEPARTURE\",\"SCHEDULED_ARRIVAL\",\"DEPARTURE_TIME\",\"ARRIVAL_TIME\"]]"
   ]
  },
  {
   "cell_type": "code",
   "execution_count": null,
   "id": "40c2ad22-18cc-429d-8356-d6084792a640",
   "metadata": {
    "scrolled": true
   },
   "outputs": [],
   "source": [
    "#Drop non relevant columns\n",
    "non_used_columns = ['YEAR', 'MONTH', 'DAY', 'DAY_OF_WEEK','FLIGHT_NUMBER', 'TAIL_NUMBER','TAXI_OUT',\n",
    "       'WHEELS_OFF','WHEELS_ON', 'TAXI_IN','AIR_TIME','DIVERTED', 'CANCELLED', 'CANCELLATION_REASON','AIR_SYSTEM_DELAY', 'SECURITY_DELAY',\n",
    "       'AIRLINE_DELAY','LATE_AIRCRAFT_DELAY', 'WEATHER_DELAY']\n",
    "df_flights = df_flights.drop(non_used_columns,axis=1)\n",
    "df_flights"
   ]
  },
  {
   "cell_type": "code",
   "execution_count": null,
   "id": "e498dd2a-e905-4ff9-bfd4-ad48b08ba896",
   "metadata": {},
   "outputs": [],
   "source": [
    "df_flights.loc[:,'DISTANCE']= convert_distances(df_flights, 'DISTANCE')"
   ]
  },
  {
   "cell_type": "code",
   "execution_count": null,
   "id": "48137f48-40a7-47f0-b7bf-96055dca6ecb",
   "metadata": {
    "scrolled": true
   },
   "outputs": [],
   "source": [
    "#Missing values\n",
    "missing_df = df_april.isnull().sum(axis=0).reset_index()\n",
    "missing_df.columns = ['Colonne', 'NaN Values']\n",
    "missing_df['Filling factor (%)']=(df_april.shape[0]-missing_df['NaN Values'])/df_april.shape[0]*100\n",
    "missing_df.sort_values('Filling factor (%)').reset_index(drop = True)"
   ]
  },
  {
   "cell_type": "code",
   "execution_count": null,
   "id": "553816ee-5d58-4657-837c-66a3714f2676",
   "metadata": {},
   "outputs": [],
   "source": [
    "# Supprimer les valeurs NaN\n",
    "df_flights.dropna(inplace = True)"
   ]
  },
  {
   "cell_type": "code",
   "execution_count": null,
   "id": "55465e9d-4d9d-47d8-a60f-e747b8a1dd2c",
   "metadata": {},
   "outputs": [],
   "source": [
    "df_flights.to_csv(f'./data/data_usa/flights_final.csv',index=False)"
   ]
  },
  {
   "cell_type": "code",
   "execution_count": null,
   "id": "9c49763d-e595-4b6f-a7d7-d7c304435fbc",
   "metadata": {},
   "outputs": [],
   "source": [
    "df_flights = pd.read_csv(f'./data/data_usa/flights_final.csv',low_memory=False)"
   ]
  },
  {
   "cell_type": "markdown",
   "id": "e065a026-c231-45e8-884f-e75216c42ee2",
   "metadata": {},
   "source": [
    "#### Par jour de la semaine"
   ]
  },
  {
   "cell_type": "code",
   "execution_count": null,
   "id": "24179afb-3ddb-4a03-bef4-c88fa061a037",
   "metadata": {},
   "outputs": [],
   "source": [
    "# Créer des colonnes pour le jour de la semaine et le mois\n",
    "df_flights['DATE'] = pd.to_datetime(df_flights['DATE'])\n",
    "df_flights['WEEKDAY'] = df_flights['DATE'].dt.day_name()\n",
    "\n",
    "# Calculer la moyenne des retards par jour de la semaine\n",
    "average_delay_weekday = df_flights.groupby('WEEKDAY')['DEPARTURE_DELAY'].mean()\n",
    "\n",
    "# Visualisation\n",
    "plt.figure(figsize=(10, 5))\n",
    "average_delay_weekday.plot(kind='bar', color='orange')\n",
    "plt.title('Retard moyen de départ par jour de la semaine')\n",
    "plt.xlabel('Jour de la semaine')\n",
    "plt.ylabel('Retard moyen (minutes)')\n",
    "plt.show()"
   ]
  },
  {
   "cell_type": "code",
   "execution_count": null,
   "id": "7e37cd01-7943-43fd-8906-c6b2ac073de8",
   "metadata": {},
   "outputs": [],
   "source": [
    "# Création d'un graphique à barres pour visualiser le nombre de vols par mois\n",
    "flights_per_weekday = df_flights.groupby('WEEKDAY').size()\n",
    "# Normaliser le nombre de vols par le total pour obtenir des proportions\n",
    "total_flights = flights_per_weekday.sum()\n",
    "normalized_flights_per_weekday = flights_per_weekday / total_flights\n",
    "\n",
    "# Création d'un graphique à barres pour visualiser les proportions de vols par mois\n",
    "normalized_flights_per_weekday.plot(kind='bar')\n",
    "plt.title('Proportion de Vols par jour')\n",
    "plt.xlabel('Jour de la semaine')\n",
    "plt.ylabel('Proportion de Vols')\n",
    "plt.xticks(ticks=range(len(normalized_flights_per_weekday)), labels=[str(weekday) for weekday in normalized_flights_per_weekday.index], rotation=45)\n",
    "plt.show()"
   ]
  },
  {
   "cell_type": "markdown",
   "id": "cb610361-548e-43ad-91fd-7c7c74cbf3aa",
   "metadata": {},
   "source": [
    "Les jours de la semaine où il y a le plus de retards sont les jours de la semaine où il y a le plus de vols (soit le lundi)"
   ]
  },
  {
   "cell_type": "markdown",
   "id": "439707b3-e239-47fa-af5c-e7baadff7928",
   "metadata": {},
   "source": [
    "#### Par mois de l'année"
   ]
  },
  {
   "cell_type": "code",
   "execution_count": null,
   "id": "15ee3ca8-b07a-4b91-bf87-80b559fe56d8",
   "metadata": {},
   "outputs": [],
   "source": [
    "# Créer des colonnes pour le jour de la semaine et le mois\n",
    "df_flights['MONTH'] = df_flights['DATE'].dt.month_name()\n",
    "\n",
    "# Calculer la moyenne des retards par jour de la semaine\n",
    "average_delay_month = df_flights.groupby('MONTH')['DEPARTURE_DELAY'].mean()\n",
    "\n",
    "# Visualisation\n",
    "plt.figure(figsize=(10, 5))\n",
    "average_delay_month.plot(kind='bar', color='orange')\n",
    "plt.title(\"Retard moyen de départ par mois de l'année\")\n",
    "plt.xlabel(\"Mois de l'année\")\n",
    "plt.ylabel('Retard moyen (minutes)')\n",
    "plt.show()"
   ]
  },
  {
   "cell_type": "code",
   "execution_count": null,
   "id": "b67d05b7-975a-44f3-8b46-e4b8d0ed8efd",
   "metadata": {},
   "outputs": [],
   "source": [
    "# Création d'un graphique à barres pour visualiser le nombre de vols par mois\n",
    "flights_per_month = df_flights.groupby('MONTH').size()\n",
    "# Normaliser le nombre de vols par le total pour obtenir des proportions\n",
    "total_flights = flights_per_month.sum()\n",
    "normalized_flights_per_month = flights_per_month / total_flights\n",
    "\n",
    "# Création d'un graphique à barres pour visualiser les proportions de vols par mois\n",
    "normalized_flights_per_month.plot(kind='bar')\n",
    "plt.title('Proportion de Vols par Mois')\n",
    "plt.xlabel('Mois')\n",
    "plt.ylabel('Proportion de Vols')\n",
    "plt.xticks(ticks=range(len(normalized_flights_per_month)), labels=[str(month) for month in normalized_flights_per_month.index], rotation=45)\n",
    "plt.show()"
   ]
  },
  {
   "cell_type": "markdown",
   "id": "4a8b2640-3a20-4cb1-96eb-518c73e2a419",
   "metadata": {},
   "source": [
    "#### Par saisons"
   ]
  },
  {
   "cell_type": "code",
   "execution_count": null,
   "id": "0c4f7fe3-d167-4b57-b268-0062d5e21948",
   "metadata": {},
   "outputs": [],
   "source": [
    "def month_to_season(month):\n",
    "    if month in ['December', 'January', 'February']:\n",
    "        return 'Winter'\n",
    "    elif month in ['March', 'April', 'May']:\n",
    "        return 'Spring'\n",
    "    elif month in ['June', 'July', 'August']:\n",
    "        return 'Summer'\n",
    "    elif month in ['September', 'October', 'November']:\n",
    "        return 'Fall'\n",
    "\n",
    "# Appliquer la fonction à la colonne 'MONTH' pour créer une nouvelle colonne 'SEASON'\n",
    "df_flights['SEASON'] = df_flights['MONTH'].apply(month_to_season)"
   ]
  },
  {
   "cell_type": "code",
   "execution_count": null,
   "id": "94b44033-755c-4dc1-b90f-a62dc72db9ef",
   "metadata": {},
   "outputs": [],
   "source": [
    "# Calculer la moyenne des retards par saison\n",
    "average_delay_season = df_flights.groupby('SEASON')['DEPARTURE_DELAY'].mean()\n",
    "\n",
    "# Visualisation des retards moyens par saison\n",
    "plt.figure(figsize=(10, 5))\n",
    "average_delay_season.reindex(['Winter', 'Spring', 'Summer', 'Fall']).plot(kind='bar', color='blue')\n",
    "plt.title(\"Retard moyen de départ par saison\")\n",
    "plt.xlabel(\"Saison\")\n",
    "plt.ylabel('Retard moyen (minutes)')\n",
    "plt.show()"
   ]
  },
  {
   "cell_type": "code",
   "execution_count": null,
   "id": "f80211eb-3c27-443c-ac76-f89154082d56",
   "metadata": {},
   "outputs": [],
   "source": [
    "# Calculer le nombre de vols par saison\n",
    "flights_per_season = df_flights.groupby('SEASON').size()\n",
    "# Normaliser le nombre de vols par le total pour obtenir des proportions\n",
    "total_flights_per_season = flights_per_season.sum()\n",
    "normalized_flights_per_season = flights_per_season / total_flights_per_season\n",
    "\n",
    "# Création d'un graphique à barres pour visualiser les proportions de vols par mois\n",
    "normalized_flights_per_season.plot(kind='bar')\n",
    "plt.title('Proportion de Vols par Mois')\n",
    "plt.xlabel('Mois')\n",
    "plt.ylabel('Proportion de Vols')\n",
    "plt.xticks(ticks=range(len(normalized_flights_per_season)), labels=[str(season) for season in normalized_flights_per_season.index], rotation=45)\n",
    "plt.show()"
   ]
  },
  {
   "cell_type": "markdown",
   "id": "9b668ed0-d2f1-4dfa-8c2a-b37c17cc30a5",
   "metadata": {},
   "source": [
    "C'est durant l'été que le plus de retards sont enregistrés (surtout le mois de juin dans l'analyse par mois) ce qui pourrait être expliqué par le nombre de vols à cette période qui est plus élevée par rapport au nombre tout au long de l'année.\n",
    "\n",
    "La deuxième saison qui enregistre le plus de retards est l'hiver (surtout le mois de février et décembre dans l'analyse par mois), toutefois ce n'est pas la saison où le plus de vols à été enregistré après l'été mais ça peut s'expliquer par les conditions météorologiques."
   ]
  },
  {
   "cell_type": "markdown",
   "id": "48ebf258-1160-442e-bf23-9a7bfd59312a",
   "metadata": {},
   "source": [
    "### Analyse de corrélation (jour/mois et retard)"
   ]
  },
  {
   "cell_type": "code",
   "execution_count": null,
   "id": "3f57d8f8-28f3-4caf-a81b-c7dc4b6002b8",
   "metadata": {},
   "outputs": [],
   "source": [
    "df_flights['IS_DELAYED_DEPARTURE'] = df_flights['DEPARTURE_DELAY'].apply(lambda x: 1 if x > 0 else 0)  # 1 pour retardé, 0 sinon\n",
    "\n",
    "# Création de variables indicatrices pour les jours de la semaine et le mois\n",
    "correlation_data = pd.get_dummies(df_flights, columns=[\"MONTH\", \"WEEKDAY\"])\n",
    "\n",
    "# Ajouter la colonne de retard moyen par vol\n",
    "correlation_data['AVERAGE_DELAY'] = df_flights['DEPARTURE_DELAY']\n",
    "correlation_data = correlation_data.drop([\"AIRLINE\",\"ORIGIN_AIRPORT\",\"DESTINATION_AIRPORT\",\"SCHEDULED_DEPARTURE\",\"DEPARTURE_TIME\",\"SCHEDULED_ARRIVAL\",\"ARRIVAL_TIME\"],axis =1)\n",
    "# Calcul de la matrice de corrélation\n",
    "correlation_matrix = correlation_data.corr()"
   ]
  },
  {
   "cell_type": "code",
   "execution_count": null,
   "id": "fd5c4fab-a321-4fc2-a162-0573ec43f50c",
   "metadata": {},
   "outputs": [],
   "source": [
    "import numpy as np\n",
    "columns_to_include = [col for col in correlation_matrix.columns if 'MONTH' in col or 'WEEKDAY' in col or col in correlation_matrix.columns]\n",
    "correlation_focus = correlation_matrix[columns_to_include]\n",
    "\n",
    "# Affichage de la matrice de corrélation\n",
    "plt.figure(figsize=(20, 15))\n",
    "sns.heatmap(correlation_focus,annot = True, cmap='coolwarm', fmt=\".2f\",yticklabels=correlation_matrix.columns,annot_kws={\"size\": 10})\n",
    "plt.title('Corrélation entre les retards, les jours et les mois')\n",
    "plt.show()"
   ]
  },
  {
   "cell_type": "markdown",
   "id": "64d6153c-95be-4f80-a36d-dd9e9635357d",
   "metadata": {},
   "source": [
    "Corrélations Fortes:\n",
    "\n",
    "    - Les variables DEPARTURE_DELAY et ARRIVAL_DELAY présentent une forte corrélation (0.87), ce qui est attendu puisque les retards au départ peuvent souvent entraîner des retards à l'arrivée.\n",
    "\n",
    "    - SCHEDULED_TIME et ELAPSED_TIME montrent également une corrélation élevée, indiquant que le temps de vol prévu est souvent proche du temps de vol réel.\n",
    "\n",
    "Corrélations avec les mois et les jours de la semaine:\n",
    "\n",
    "    - Les mois et les jours de la semaine montrent généralement une faible corrélation avec DEPARTURE_DELAY, à l'exception de certains mois spécifiques comme juin, décembre et février qui montrent une légère corrélation positive (jusqu'à 0.14).\n",
    "\n",
    "    - Il y a peu de corrélation entre les jours de la semaine et DEPARTURE_DELAY, avec des valeurs allant de -0.01 à 0.03, ce qui implique que le jour de la semaine n'a pas d'influence significative sur les retards de départ (sauf pour le lundi)départ."
   ]
  },
  {
   "cell_type": "markdown",
   "id": "af320829-37b5-4e67-8936-589b453b6a34",
   "metadata": {},
   "source": [
    "### Régression multiple"
   ]
  },
  {
   "cell_type": "code",
   "execution_count": null,
   "id": "3a194ba6-3521-49a6-9daa-9a52fed31ab3",
   "metadata": {},
   "outputs": [],
   "source": [
    "import statsmodels.api as sm\n",
    "\n",
    "# Préparer les données pour la régression\n",
    "X = pd.get_dummies(df_flights[['MONTH', 'WEEKDAY']], drop_first=True)  # Utiliser drop_first pour éviter la multicolinéarité\n",
    "X = X.astype(int)\n",
    "X['DISTANCE'] = df_flights['DISTANCE']\n",
    "Y = df_flights['DEPARTURE_DELAY']\n",
    "\n",
    "# Ajouter une constante à X\n",
    "X = sm.add_constant(X)\n",
    "\n",
    "# Construire le modèle de régression\n",
    "model = sm.OLS(Y, X).fit()\n",
    "\n",
    "# Afficher le résumé du modèle\n",
    "print(model.summary())"
   ]
  },
  {
   "cell_type": "markdown",
   "id": "2041b0d7-f244-4586-b43a-ffda922316ea",
   "metadata": {},
   "source": [
    "Coefficients des variables:\n",
    "\n",
    "    - const: Le coefficient constant est de 6.5669 avec un P>|t| de 0.000, signifiant qu'en l'absence de toutes les autres variables, le retard moyen est de 6.57 minutes (statistiquement significatif)\n",
    "\n",
    "    - Mois: Les mois de février, juin et décembre montrent des coefficient positifs significatifs, indiquant des retards plus élevés pendant ces mois. Les mois de mai, septembre et octobre montrent des coefficients négatifs, suggérant moins de retard\n",
    "\n",
    "    - Jour de la semaine: Aucun des jours de la semaine n'est significativement lié à une augmentation des retards, sauf le lundi qui a un petit effet positif\n",
    "\n",
    "    - Distante: le coefficient pour la distance est de 0.0009 et est statistiquement significatif, indiquant que pour chaque unité supplémentaire de distance, le retard augmente en moyenne de 0.0009 minutes.9 minute."
   ]
  },
  {
   "cell_type": "code",
   "execution_count": null,
   "id": "462443f1-91b2-4de4-922a-d64b27a50fbf",
   "metadata": {},
   "outputs": [],
   "source": [
    "import statsmodels.api as sm\n",
    "\n",
    "# Préparer les données pour la régression\n",
    "X = pd.get_dummies(df_flights[['MONTH', 'WEEKDAY']], drop_first=True)  # Utiliser drop_first pour éviter la multicolinéarité\n",
    "X = X.astype(int)\n",
    "X['DISTANCE'] = df_flights['DISTANCE']\n",
    "Y = df_flights['ARRIVAL_DELAY']\n",
    "\n",
    "# Ajouter une constante à X\n",
    "X = sm.add_constant(X)\n",
    "\n",
    "# Construire le modèle de régression\n",
    "model = sm.OLS(Y, X).fit()\n",
    "\n",
    "# Afficher le résumé du modèle\n",
    "print(model.summary())"
   ]
  },
  {
   "cell_type": "markdown",
   "id": "6d02fdf6-cf80-4ee2-8a81-50e012200f3c",
   "metadata": {},
   "source": [
    "Coefficients des variables:\n",
    "\n",
    "    - const: Le retard moyen à l'arrivée est de 4.8322 minutes en l'absence d'autres factuerus (statistiquement significatif).\n",
    "    \n",
    "    - Mois: Les mois de février, juin montrent des coefficient positifs significatifs, indiquant des retards plus élevés pendant ces mois. Les mois de septembre et octobre montrent des coefficients négatifs, suggérant moins de retard\n",
    "\n",
    "    - Jour de la semaine: Le lundi montre un effet positif significatif sur les retards, tandis que le dimanche et le samedi montrent des effets négatifs.\n",
    "\n",
    "    - Distante: le coefficient est pratiquement nul (-0.0012) et statistiquement non significatif, indiquant que la distance parcourue n'influence pas significativement les retards à l'arrivée, (c'est vrai vu que les vols qui ont décollé en retard arrivent à rattraper légèrement le retard ensuite à l'arrivée quelque soit la distance).ivée."
   ]
  },
  {
   "cell_type": "markdown",
   "id": "ffd5f5bc-ebec-4de8-9926-917ca7aa8b24",
   "metadata": {},
   "source": [
    "### PCA"
   ]
  },
  {
   "cell_type": "code",
   "execution_count": null,
   "id": "6df30150-f6ef-4183-8e67-cb9c4f91f47c",
   "metadata": {},
   "outputs": [],
   "source": [
    "from sklearn.preprocessing import StandardScaler\n",
    "\n",
    "# Supposons que df_flights est votre DataFrame et contient plusieurs variables numériques\n",
    "# Sélectionnez les colonnes numériques pertinentes\n",
    "columns = [\"DEPARTURE_DELAY\",\"SCHEDULED_TIME\",\"ELAPSED_TIME\",\"DISTANCE\",\"ARRIVAL_DELAY\"]\n",
    "data = df_flights[columns]\n",
    "\n",
    "# Normalisation des données\n",
    "scaler = StandardScaler()\n",
    "data_scaled = scaler.fit_transform(data)"
   ]
  },
  {
   "cell_type": "code",
   "execution_count": null,
   "id": "7d84c8da-7673-4497-b612-25100f6f3705",
   "metadata": {},
   "outputs": [],
   "source": [
    "from sklearn.decomposition import PCA\n",
    "\n",
    "# Application de la PCA\n",
    "pca = PCA(n_components=2)  # Réduction à 2 dimensions pour visualisation\n",
    "principal_components = pca.fit_transform(data_scaled)\n",
    "\n",
    "# Création d'un nouveau DataFrame pour les composantes principales\n",
    "principal_df = pd.DataFrame(data=principal_components, columns=['PC1', 'PC2'])"
   ]
  },
  {
   "cell_type": "code",
   "execution_count": null,
   "id": "f0e28881-3280-46e1-90c2-00c1be2869b5",
   "metadata": {},
   "outputs": [],
   "source": [
    "# Obtenir les loadings\n",
    "loadings = pca.components_.T * np.sqrt(pca.explained_variance_)\n",
    "\n",
    "# Créer un DataFrame pour les loadings\n",
    "loading_matrix = pd.DataFrame(loadings, columns=['PC1', 'PC2'], index=columns)\n",
    "\n",
    "# Trouver l'index de la valeur maximale dans chaque colonne\n",
    "most_influential_names = loading_matrix.idxmax(axis=0)\n",
    "\n",
    "principal_df_columns = [f'PC1 ({most_influential_names.iloc[0]})', f'PC2 ({most_influential_names.iloc[1]})']\n",
    "principal_df = pd.DataFrame(principal_components, columns=principal_df_columns)"
   ]
  },
  {
   "cell_type": "code",
   "execution_count": null,
   "id": "a12ca9b0-4813-4823-822c-5d71dd1b02ef",
   "metadata": {},
   "outputs": [],
   "source": [
    "principal_df"
   ]
  },
  {
   "cell_type": "code",
   "execution_count": null,
   "id": "32170167-3478-4207-abbc-7fb0d495b14f",
   "metadata": {},
   "outputs": [],
   "source": [
    "import numpy as np\n",
    "def display_circles(pcs, n_comp, pca, axis_ranks, labels=None, label_rotation=0, lims=None):\n",
    "    for d1, d2 in axis_ranks:  # pour chaque paire d'axes\n",
    "        if d2 < n_comp:\n",
    "            fig, ax = plt.subplots(figsize=(7,7))\n",
    "\n",
    "            # Limites pour les axes avec un peu de marge\n",
    "            circle = plt.Circle((0, 0), 1, edgecolor='b', facecolor='none')\n",
    "            ax.add_artist(circle)\n",
    "\n",
    "            # Lignes pour le quadrillage\n",
    "            plt.axhline(0, color='grey', linestyle='--')\n",
    "            plt.axvline(0, color='grey', linestyle='--')\n",
    "\n",
    "            # Ajout des flèches\n",
    "            for i in range(len(pcs)):\n",
    "                ax.arrow(0, 0, pcs[i, d1], pcs[i, d2], head_width=0.03, head_length=0.05, fc='red', ec='red')\n",
    "                if labels is not None:\n",
    "                    plt.text(pcs[i, d1] * 1.15, pcs[i, d2] * 1.15, labels[i], fontsize=10, ha='right', va='center')\n",
    "\n",
    "            # Définir les limites des axes\n",
    "            plt.xlim(-1, 1)\n",
    "            plt.ylim(-1, 1)\n",
    "            plt.xlabel(f'PC{d1+1} - {var_exp[d1]:.2f}%')\n",
    "            plt.ylabel(f'PC{d2+1} - {var_exp[d2]:.2f}%')\n",
    "            plt.title(\"Cercle de Corrélation des PCA\")\n",
    "            plt.show()\n",
    "\n",
    "# Les variances expliquées par les composantes\n",
    "var_exp = pca.explained_variance_ratio_ * 100\n",
    "\n",
    "# Appel de la fonction pour afficher le cercle de corrélation\n",
    "display_circles(pca.components_.T, 2, pca, [(0, 1)], labels=columns) # empty matrix for coordinates"
   ]
  }
 ],
 "metadata": {
  "kernelspec": {
   "display_name": "Python 3 (ipykernel)",
   "language": "python",
   "name": "python3"
  },
  "language_info": {
   "codemirror_mode": {
    "name": "ipython",
    "version": 3
   },
   "file_extension": ".py",
   "mimetype": "text/x-python",
   "name": "python",
   "nbconvert_exporter": "python",
   "pygments_lexer": "ipython3",
   "version": "3.11.8"
  }
 },
 "nbformat": 4,
 "nbformat_minor": 5
}
